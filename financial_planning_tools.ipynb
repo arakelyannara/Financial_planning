{
 "cells": [
  {
   "cell_type": "markdown",
   "metadata": {},
   "source": [
    "# Financial Planning with APIs and Simulations\n",
    "\n",
    "In this Challenge, you’ll create two financial analysis tools by using a single Jupyter notebook:\n",
    "\n",
    "Part 1: A financial planner for emergencies. The members will be able to use this tool to visualize their current savings. The members can then determine if they have enough reserves for an emergency fund.\n",
    "\n",
    "Part 2: A financial planner for retirement. This tool will forecast the performance of their retirement portfolio in 30 years. To do this, the tool will make an Alpaca API call via the Alpaca SDK to get historical price data for use in Monte Carlo simulations.\n",
    "\n",
    "You’ll use the information from the Monte Carlo simulation to answer questions about the portfolio in your Jupyter notebook.\n",
    "\n"
   ]
  },
  {
   "cell_type": "code",
   "execution_count": 1,
   "metadata": {},
   "outputs": [],
   "source": [
    "# Import the required libraries and dependencies\n",
    "import os\n",
    "import requests\n",
    "import json\n",
    "import pandas as pd\n",
    "from dotenv import load_dotenv\n",
    "import alpaca_trade_api as tradeapi\n",
    "from MCForecastTools import MCSimulation\n",
    "from pprint import pprint\n",
    "%matplotlib inline"
   ]
  },
  {
   "cell_type": "code",
   "execution_count": 2,
   "metadata": {},
   "outputs": [
    {
     "data": {
      "text/plain": [
       "True"
      ]
     },
     "execution_count": 2,
     "metadata": {},
     "output_type": "execute_result"
    }
   ],
   "source": [
    "load_dotenv()"
   ]
  },
  {
   "cell_type": "markdown",
   "metadata": {},
   "source": [
    "## Part 1: Create a Financial Planner for Emergencies"
   ]
  },
  {
   "cell_type": "markdown",
   "metadata": {},
   "source": [
    "### Evaluate the Cryptocurrency Wallet by Using the Requests Library\n",
    "\n",
    "In this section, you’ll determine the current value of a member’s cryptocurrency wallet. You’ll collect the current prices for the Bitcoin and Ethereum cryptocurrencies by using the Python Requests library. For the prototype, you’ll assume that the member holds the 1.2 Bitcoins (BTC) and 5.3 Ethereum coins (ETH). To do all this, complete the following steps:\n",
    "\n",
    "1. Create a variable named `monthly_income`, and set its value to `12000`.\n",
    "\n",
    "2. Use the Requests library to get the current price (in US dollars) of Bitcoin (BTC) and Ethereum (ETH) by using the API endpoints that the starter code supplies.\n",
    "\n",
    "3. Navigate the JSON response object to access the current price of each coin, and store each in a variable.\n",
    "\n",
    "    > **Hint** Note the specific identifier for each cryptocurrency in the API JSON response. The Bitcoin identifier is `1`, and the Ethereum identifier is `1027`.\n",
    "\n",
    "4. Calculate the value, in US dollars, of the current amount of each cryptocurrency and of the entire cryptocurrency wallet.\n",
    "\n"
   ]
  },
  {
   "cell_type": "code",
   "execution_count": 3,
   "metadata": {},
   "outputs": [],
   "source": [
    "# The current number of coins for each cryptocurrency asset held in the portfolio.\n",
    "btc_coins = 1.2\n",
    "eth_coins = 5.3"
   ]
  },
  {
   "cell_type": "markdown",
   "metadata": {},
   "source": [
    "#### Step 1: Create a variable named `monthly_income`, and set its value to `12000`."
   ]
  },
  {
   "cell_type": "code",
   "execution_count": 4,
   "metadata": {},
   "outputs": [],
   "source": [
    "# The monthly amount for the member's household income\n",
    "monthly_income=12000"
   ]
  },
  {
   "cell_type": "markdown",
   "metadata": {},
   "source": [
    "#### Review the endpoint URLs for the API calls to Free Crypto API in order to get the current pricing information for both BTC and ETH."
   ]
  },
  {
   "cell_type": "code",
   "execution_count": 5,
   "metadata": {},
   "outputs": [],
   "source": [
    "# The Free Crypto API Call endpoint URLs for the held cryptocurrency assets\n",
    "btc_url = \"https://api.alternative.me/v2/ticker/Bitcoin/?convert=USD\"\n",
    "eth_url = \"https://api.alternative.me/v2/ticker/Ethereum/?convert=USD\""
   ]
  },
  {
   "cell_type": "markdown",
   "metadata": {},
   "source": [
    "#### Step 2. Use the Requests library to get the current price (in US dollars) of Bitcoin (BTC) and Ethereum (ETH) by using the API endpoints that the starter code supplied."
   ]
  },
  {
   "cell_type": "code",
   "execution_count": 6,
   "metadata": {},
   "outputs": [
    {
     "name": "stdout",
     "output_type": "stream",
     "text": [
      "{\n",
      "    \"data\": {\n",
      "        \"1\": {\n",
      "            \"circulating_supply\": 18860406,\n",
      "            \"id\": 1,\n",
      "            \"last_updated\": 1635743374,\n",
      "            \"max_supply\": 21000000,\n",
      "            \"name\": \"Bitcoin\",\n",
      "            \"quotes\": {\n",
      "                \"USD\": {\n",
      "                    \"market_cap\": 1137496821020,\n",
      "                    \"percent_change_1h\": 1.3285020387983,\n",
      "                    \"percent_change_24h\": -1.38308320395913,\n",
      "                    \"percent_change_7d\": -0.906847435042964,\n",
      "                    \"percentage_change_1h\": 1.3285020387983,\n",
      "                    \"percentage_change_24h\": -1.38308320395913,\n",
      "                    \"percentage_change_7d\": -0.906847435042964,\n",
      "                    \"price\": 60618.0,\n",
      "                    \"volume_24h\": 32501340029\n",
      "                }\n",
      "            },\n",
      "            \"rank\": 1,\n",
      "            \"symbol\": \"BTC\",\n",
      "            \"total_supply\": 18860406,\n",
      "            \"website_slug\": \"bitcoin\"\n",
      "        }\n",
      "    },\n",
      "    \"metadata\": {\n",
      "        \"error\": null,\n",
      "        \"num_cryptocurrencies\": 3105,\n",
      "        \"timestamp\": 1635743374\n",
      "    }\n",
      "}\n"
     ]
    },
    {
     "data": {
      "text/plain": [
       "str"
      ]
     },
     "execution_count": 6,
     "metadata": {},
     "output_type": "execute_result"
    }
   ],
   "source": [
    "# Using the Python requests library, make an API call to access the current price of BTC\n",
    "btc_response = requests.get(btc_url).json()\n",
    "\n",
    "# Use the json.dumps function to review the response data from the API call\n",
    "# Use the indent and sort_keys parameters to make the response object readable\n",
    "btc_response=json.dumps(btc_response, sort_keys=True, indent=4)\n",
    "print(btc_response)\n",
    "type(btc_response)"
   ]
  },
  {
   "cell_type": "code",
   "execution_count": 7,
   "metadata": {},
   "outputs": [
    {
     "name": "stdout",
     "output_type": "stream",
     "text": [
      "{\n",
      "    \"data\": {\n",
      "        \"1027\": {\n",
      "            \"circulating_supply\": 118159926,\n",
      "            \"id\": 1027,\n",
      "            \"last_updated\": 1635743353,\n",
      "            \"max_supply\": 0,\n",
      "            \"name\": \"Ethereum\",\n",
      "            \"quotes\": {\n",
      "                \"USD\": {\n",
      "                    \"market_cap\": 499320658618,\n",
      "                    \"percent_change_1h\": 1.5871660108093,\n",
      "                    \"percent_change_24h\": -3.00438399162152,\n",
      "                    \"percent_change_7d\": 3.49835900931918,\n",
      "                    \"percentage_change_1h\": 1.5871660108093,\n",
      "                    \"percentage_change_24h\": -3.00438399162152,\n",
      "                    \"percentage_change_7d\": 3.49835900931918,\n",
      "                    \"price\": 4238.19,\n",
      "                    \"volume_24h\": 18693316706\n",
      "                }\n",
      "            },\n",
      "            \"rank\": 2,\n",
      "            \"symbol\": \"ETH\",\n",
      "            \"total_supply\": 118159926,\n",
      "            \"website_slug\": \"ethereum\"\n",
      "        }\n",
      "    },\n",
      "    \"metadata\": {\n",
      "        \"error\": null,\n",
      "        \"num_cryptocurrencies\": 3105,\n",
      "        \"timestamp\": 1635743353\n",
      "    }\n",
      "}\n"
     ]
    },
    {
     "data": {
      "text/plain": [
       "str"
      ]
     },
     "execution_count": 7,
     "metadata": {},
     "output_type": "execute_result"
    }
   ],
   "source": [
    "# Using the Python requests library, make an API call to access the current price ETH\n",
    "eth_response = requests.get(eth_url).json()\n",
    "\n",
    "# Use the json.dumps function to review the response data from the API call\n",
    "# Use the indent and sort_keys parameters to make the response object readable\n",
    "eth_response=json.dumps(eth_response, sort_keys=True, indent=4)\n",
    "print(eth_response)\n",
    "type(eth_response)"
   ]
  },
  {
   "cell_type": "markdown",
   "metadata": {},
   "source": [
    "#### Step 3: Navigate the JSON response object to access the current price of each coin, and store each in a variable."
   ]
  },
  {
   "cell_type": "code",
   "execution_count": 8,
   "metadata": {},
   "outputs": [
    {
     "name": "stdout",
     "output_type": "stream",
     "text": [
      "The current price of Bitcoin is $60618.0\n"
     ]
    }
   ],
   "source": [
    "# Navigate the BTC response object to access the current price of BTC\n",
    "\n",
    "btc_response=json.loads(btc_response)\n",
    "type(btc_response) \n",
    "btc_price = btc_response[\"data\"][\"1\"][\"quotes\"][\"USD\"][\"price\"]\n",
    "\n",
    "# Print the current price of BTC\n",
    "print(f\"The current price of Bitcoin is ${btc_price}\")"
   ]
  },
  {
   "cell_type": "code",
   "execution_count": 9,
   "metadata": {},
   "outputs": [
    {
     "name": "stdout",
     "output_type": "stream",
     "text": [
      "The current price of Etherium is $4,238.19\n"
     ]
    }
   ],
   "source": [
    "# Navigate the BTC response object to access the current price of ETH\n",
    "eth_response=json.loads(eth_response)\n",
    "eth_price = eth_response[\"data\"][\"1027\"][\"quotes\"][\"USD\"][\"price\"]\n",
    "\n",
    "# Print the current price of ETH\n",
    "print(f\"The current price of Etherium is ${eth_price:,.2f}\")"
   ]
  },
  {
   "cell_type": "markdown",
   "metadata": {},
   "source": [
    "### Step 4: Calculate the value, in US dollars, of the current amount of each cryptocurrency and of the entire cryptocurrency wallet."
   ]
  },
  {
   "cell_type": "code",
   "execution_count": 10,
   "metadata": {},
   "outputs": [
    {
     "name": "stdout",
     "output_type": "stream",
     "text": [
      "The current Bitcoin portfolio is 72,741.60.\n"
     ]
    }
   ],
   "source": [
    "# Compute the current value of the BTC holding \n",
    "btc_value = btc_price * btc_coins\n",
    "\n",
    "# Print current value of your holding in BTC\n",
    "\n",
    "print(f\"The current Bitcoin portfolio is {btc_value:,.2f}.\")"
   ]
  },
  {
   "cell_type": "code",
   "execution_count": 11,
   "metadata": {},
   "outputs": [
    {
     "name": "stdout",
     "output_type": "stream",
     "text": [
      "The current Etherium portfolio is valued 22,462.41\n"
     ]
    }
   ],
   "source": [
    "# Compute the current value of the ETH holding \n",
    "eth_value=eth_price * eth_coins\n",
    "\n",
    "# Print current value of your holding in ETH\n",
    "print(f\"The current Etherium portfolio is valued {eth_value:,.2f}\")"
   ]
  },
  {
   "cell_type": "code",
   "execution_count": 12,
   "metadata": {},
   "outputs": [
    {
     "name": "stdout",
     "output_type": "stream",
     "text": [
      "The current Cryptocurrency portfolio is valued $95,204.01\n"
     ]
    }
   ],
   "source": [
    "# Compute the total value of the cryptocurrency wallet\n",
    "# Add the value of the BTC holding to the value of the ETH holding\n",
    "total_crypto_wallet = btc_value + eth_value\n",
    "\n",
    "# Print current cryptocurrency wallet balance\n",
    "\n",
    "print(f\"The current Cryptocurrency portfolio is valued ${total_crypto_wallet:,.2f}\")"
   ]
  },
  {
   "cell_type": "code",
   "execution_count": 13,
   "metadata": {},
   "outputs": [],
   "source": [
    "### Evaluate the Stock and Bond Holdings by Using the Alpaca SDK\n",
    "\n",
    "# In this section, you’ll determine the current value of a member’s stock and bond holdings. You’ll make an API call to Alpaca via the Alpaca SDK to get the current closing prices of the SPDR S&P 500 ETF Trust (ticker: SPY) and of the iShares Core US Aggregate Bond ETF (ticker: AGG). For the prototype, assume that the member holds 110 shares of SPY, which represents the stock portion of their portfolio, and 200 shares of AGG, which represents the bond portion. To do all this, complete the following steps:\n",
    "\n",
    "# 1. In the `Starter_Code` folder, create an environment file (`.env`) to store the values of your Alpaca API key and Alpaca secret key.\n",
    "\n",
    "# 2. Set the variables for the Alpaca API and secret keys. Using the Alpaca SDK, create the Alpaca `tradeapi.REST` object. In this object, include the parameters for the Alpaca API key, the secret key, and the version number.\n",
    "\n",
    "# 3. Set the following parameters for the Alpaca API call:\n",
    "\n",
    "#     - `tickers`: Use the tickers for the member’s stock and bond holdings.\n",
    "\n",
    "#     - `timeframe`: Use a time frame of one day.\n",
    "\n",
    "#     - `start_date` and `end_date`: Use the same date for these parameters, and format them with the date of the previous weekday (or `2020-08-07`). This is because you want the one closing price for the most-recent trading day.\n",
    "\n",
    "# 4. Get the current closing prices for `SPY` and `AGG` by using the Alpaca `get_barset` function. Format the response as a Pandas DataFrame by including the `df` property at the end of the `get_barset` function.\n",
    "\n",
    "# 5. Navigating the Alpaca response DataFrame, select the `SPY` and `AGG` closing prices, and store them as variables.\n",
    "\n",
    "# 6. Calculate the value, in US dollars, of the current amount of shares in each of the stock and bond portions of the portfolio, and print the results.\n"
   ]
  },
  {
   "cell_type": "markdown",
   "metadata": {},
   "source": [
    "#### Review the total number of shares held in both (SPY) and (AGG)."
   ]
  },
  {
   "cell_type": "code",
   "execution_count": 14,
   "metadata": {},
   "outputs": [],
   "source": [
    "# Current amount of shares held in both the stock (SPY) and bond (AGG) portion of the portfolio.\n",
    "spy_shares = 110\n",
    "agg_shares = 200"
   ]
  },
  {
   "cell_type": "markdown",
   "metadata": {},
   "source": [
    "#### Step 1: In the `Starter_Code` folder, create an environment file (`.env`) to store the values of your Alpaca API key and Alpaca secret key."
   ]
  },
  {
   "cell_type": "code",
   "execution_count": 15,
   "metadata": {},
   "outputs": [
    {
     "data": {
      "text/plain": [
       "True"
      ]
     },
     "execution_count": 15,
     "metadata": {},
     "output_type": "execute_result"
    }
   ],
   "source": [
    "load_dotenv()"
   ]
  },
  {
   "cell_type": "markdown",
   "metadata": {},
   "source": [
    "#### Step 2: Set the variables for the Alpaca API and secret keys. Using the Alpaca SDK, create the Alpaca `tradeapi.REST` object. In this object, include the parameters for the Alpaca API key, the secret key, and the version number."
   ]
  },
  {
   "cell_type": "code",
   "execution_count": 16,
   "metadata": {},
   "outputs": [
    {
     "data": {
      "text/plain": [
       "str"
      ]
     },
     "metadata": {},
     "output_type": "display_data"
    },
    {
     "data": {
      "text/plain": [
       "str"
      ]
     },
     "metadata": {},
     "output_type": "display_data"
    }
   ],
   "source": [
    "# Set the variables for the Alpaca API and secret keys\n",
    "alpaca_api_key = os.getenv('APCA_API_KEY')\n",
    "alpaca_api_secret_key = os.getenv('APCA_API_SECRET_KEY')\n",
    "\n",
    "display(type(alpaca_api_key))\n",
    "display(type(alpaca_api_secret_key))\n",
    "\n",
    "# Create the Alpaca tradeapi.REST object\n",
    "alpaca_api = tradeapi.REST(alpaca_api_key, alpaca_api_secret_key, api_version = \"v2\")\n"
   ]
  },
  {
   "cell_type": "markdown",
   "metadata": {},
   "source": [
    "#### Step 3: Set the following parameters for the Alpaca API call:\n",
    "\n",
    "- `tickers`: Use the tickers for the member’s stock and bond holdings.\n",
    "\n",
    "- `timeframe`: Use a time frame of one day.\n",
    "\n",
    "- `start_date` and `end_date`: Use the same date for these parameters, and format them with the date of the previous weekday (or `2020-08-07`). This is because you want the one closing price for the most-recent trading day.\n"
   ]
  },
  {
   "cell_type": "code",
   "execution_count": 17,
   "metadata": {},
   "outputs": [],
   "source": [
    "# Set the tickers for both the bond and stock portion of the portfolio\n",
    "tickers= [\"SPY\",\"AGG\"]\n",
    "# Set timeframe to 1D \n",
    "timeframe=\"1D\"\n",
    "\n",
    "# Format current date as ISO format\n",
    "# Set both the start and end date at the date of your prior weekday \n",
    "# This will give you the closing price of the previous trading day\n",
    "# Alternatively you can use a start and end date of 2020-08-07\n",
    "start_date = pd.Timestamp(\"2020-08-07\", tz=\"America/New_York\").isoformat()\n",
    "end_date = pd.Timestamp(\"2020-08-07\", tz=\"America/New_York\").isoformat()\n"
   ]
  },
  {
   "cell_type": "markdown",
   "metadata": {},
   "source": [
    "#### Step 4: Get the current closing prices for `SPY` and `AGG` by using the Alpaca `get_barset` function. Format the response as a Pandas DataFrame by including the `df` property at the end of the `get_barset` function."
   ]
  },
  {
   "cell_type": "code",
   "execution_count": 18,
   "metadata": {},
   "outputs": [
    {
     "data": {
      "text/html": [
       "<div>\n",
       "<style scoped>\n",
       "    .dataframe tbody tr th:only-of-type {\n",
       "        vertical-align: middle;\n",
       "    }\n",
       "\n",
       "    .dataframe tbody tr th {\n",
       "        vertical-align: top;\n",
       "    }\n",
       "\n",
       "    .dataframe thead tr th {\n",
       "        text-align: left;\n",
       "    }\n",
       "\n",
       "    .dataframe thead tr:last-of-type th {\n",
       "        text-align: right;\n",
       "    }\n",
       "</style>\n",
       "<table border=\"1\" class=\"dataframe\">\n",
       "  <thead>\n",
       "    <tr>\n",
       "      <th></th>\n",
       "      <th colspan=\"5\" halign=\"left\">AGG</th>\n",
       "      <th colspan=\"5\" halign=\"left\">SPY</th>\n",
       "    </tr>\n",
       "    <tr>\n",
       "      <th></th>\n",
       "      <th>open</th>\n",
       "      <th>high</th>\n",
       "      <th>low</th>\n",
       "      <th>close</th>\n",
       "      <th>volume</th>\n",
       "      <th>open</th>\n",
       "      <th>high</th>\n",
       "      <th>low</th>\n",
       "      <th>close</th>\n",
       "      <th>volume</th>\n",
       "    </tr>\n",
       "    <tr>\n",
       "      <th>time</th>\n",
       "      <th></th>\n",
       "      <th></th>\n",
       "      <th></th>\n",
       "      <th></th>\n",
       "      <th></th>\n",
       "      <th></th>\n",
       "      <th></th>\n",
       "      <th></th>\n",
       "      <th></th>\n",
       "      <th></th>\n",
       "    </tr>\n",
       "  </thead>\n",
       "  <tbody>\n",
       "    <tr>\n",
       "      <th>2020-08-07 00:00:00-04:00</th>\n",
       "      <td>119.66</td>\n",
       "      <td>119.73</td>\n",
       "      <td>119.395</td>\n",
       "      <td>119.445</td>\n",
       "      <td>8830420</td>\n",
       "      <td>333.28</td>\n",
       "      <td>334.88</td>\n",
       "      <td>332.3</td>\n",
       "      <td>334.55</td>\n",
       "      <td>98710236</td>\n",
       "    </tr>\n",
       "  </tbody>\n",
       "</table>\n",
       "</div>"
      ],
      "text/plain": [
       "                              AGG                                        SPY  \\\n",
       "                             open    high      low    close   volume    open   \n",
       "time                                                                           \n",
       "2020-08-07 00:00:00-04:00  119.66  119.73  119.395  119.445  8830420  333.28   \n",
       "\n",
       "                                                            \n",
       "                             high    low   close    volume  \n",
       "time                                                        \n",
       "2020-08-07 00:00:00-04:00  334.88  332.3  334.55  98710236  "
      ]
     },
     "execution_count": 18,
     "metadata": {},
     "output_type": "execute_result"
    }
   ],
   "source": [
    "# Use the Alpaca get_barset function to get current closing prices the portfolio\n",
    "# Be sure to set the `df` property after the function to format the response object as a DataFrame\n",
    "portfolio_df = alpaca_api.get_barset(\n",
    "    tickers,\n",
    "    timeframe,\n",
    "    start=start_date,\n",
    "    end=end_date).df\n",
    "# Review the first 5 rows of the Alpaca DataFrame\n",
    "# YOUR CODE HERE\n",
    "# portfolio_df\n",
    "# portfolio_df =pd.DataFrame(portfolio_df)\n",
    "portfolio_df.head()\n"
   ]
  },
  {
   "cell_type": "markdown",
   "metadata": {},
   "source": [
    "#### Step 5: Navigating the Alpaca response DataFrame, select the `SPY` and `AGG` closing prices, and store them as variables."
   ]
  },
  {
   "cell_type": "code",
   "execution_count": 19,
   "metadata": {},
   "outputs": [
    {
     "data": {
      "text/plain": [
       "334.55"
      ]
     },
     "execution_count": 19,
     "metadata": {},
     "output_type": "execute_result"
    }
   ],
   "source": [
    "# Access the closing price for AGG from the Alpaca DataFrame\n",
    "# Converting the value to a floating point number\n",
    "agg_close_price =float(portfolio_df[\"SPY\"][\"close\"])\n",
    "\n",
    "# Print the AGG closing price\n",
    "agg_close_price\n"
   ]
  },
  {
   "cell_type": "code",
   "execution_count": 20,
   "metadata": {},
   "outputs": [
    {
     "data": {
      "text/plain": [
       "119.445"
      ]
     },
     "execution_count": 20,
     "metadata": {},
     "output_type": "execute_result"
    }
   ],
   "source": [
    "# Access the closing price for SPY from the Alpaca DataFrame\n",
    "# Converting the value to a floating point number\n",
    "spy_close_price = float(portfolio_df[\"AGG\"][\"close\"])\n",
    "\n",
    "# Print the SPY closing price\n",
    "spy_close_price"
   ]
  },
  {
   "cell_type": "markdown",
   "metadata": {},
   "source": [
    "#### Step 6: Calculate the value, in US dollars, of the current amount of shares in each of the stock and bond portions of the portfolio, and print the results."
   ]
  },
  {
   "cell_type": "code",
   "execution_count": 21,
   "metadata": {},
   "outputs": [
    {
     "name": "stdout",
     "output_type": "stream",
     "text": [
      "The current value of  66910.0\n"
     ]
    }
   ],
   "source": [
    "# Calculate the current value of the bond portion of the portfolio\n",
    "agg_value = agg_shares * agg_close_price\n",
    "\n",
    "# Print the current value of the bond portfolio\n",
    "print(f\"The current value of  {agg_value}\")"
   ]
  },
  {
   "cell_type": "code",
   "execution_count": 22,
   "metadata": {},
   "outputs": [
    {
     "data": {
      "text/plain": [
       "13138.949999999999"
      ]
     },
     "execution_count": 22,
     "metadata": {},
     "output_type": "execute_result"
    }
   ],
   "source": [
    "# Calculate the current value of the stock portion of the portfolio\n",
    "spy_value = spy_shares*spy_close_price\n",
    "\n",
    "# Print the current value of the stock portfolio\n",
    "spy_value"
   ]
  },
  {
   "cell_type": "code",
   "execution_count": 23,
   "metadata": {},
   "outputs": [
    {
     "name": "stdout",
     "output_type": "stream",
     "text": [
      "The current value of stocks and bonds is $80,048.95\n"
     ]
    }
   ],
   "source": [
    "# Calculate the total value of the stock and bond portion of the portfolio\n",
    "total_stocks_bonds = spy_value + agg_value\n",
    "\n",
    "# Print the current balance of the stock and bond portion of the portfolio\n",
    "print(f\"The current value of stocks and bonds is ${total_stocks_bonds:,.2f}\")"
   ]
  },
  {
   "cell_type": "code",
   "execution_count": 24,
   "metadata": {},
   "outputs": [
    {
     "name": "stdout",
     "output_type": "stream",
     "text": [
      " The total saving portfolio balance is $175,252.96\n"
     ]
    }
   ],
   "source": [
    "# Calculate the total value of the member's entire savings portfolio\n",
    "# Add the value of the cryptocurrency walled to the value of the total stocks and bonds\n",
    "total_portfolio = total_stocks_bonds + total_crypto_wallet\n",
    "\n",
    "# Print current cryptocurrency wallet balance\n",
    "print(f\" The total saving portfolio balance is ${total_portfolio:,.2f}\")"
   ]
  },
  {
   "cell_type": "markdown",
   "metadata": {},
   "source": [
    "### Evaluate the Emergency Fund\n",
    "\n",
    "In this section, you’ll use the valuations for the cryptocurrency wallet and for the stock and bond portions of the portfolio to determine if the credit union member has enough savings to build an emergency fund into their financial plan. To do this, complete the following steps:\n",
    "\n",
    "1. Create a Python list named `savings_data` that has two elements. The first element contains the total value of the cryptocurrency wallet. The second element contains the total value of the stock and bond portions of the portfolio.\n",
    "\n",
    "2. Use the `savings_data` list to create a Pandas DataFrame named `savings_df`, and then display this DataFrame. The function to create the DataFrame should take the following three parameters:\n",
    "\n",
    "    - `savings_data`: Use the list that you just created.\n",
    "\n",
    "    - `columns`: Set this parameter equal to a Python list with a single value called `amount`.\n",
    "\n",
    "    - `index`: Set this parameter equal to a Python list with the values of `crypto` and `stock/bond`.\n",
    "\n",
    "3. Use the `savings_df` DataFrame to plot a pie chart that visualizes the composition of the member’s portfolio. The y-axis of the pie chart uses `amount`. Be sure to add a title.\n",
    "\n",
    "4. Using Python, determine if the current portfolio has enough to create an emergency fund as part of the member’s financial plan. Ideally, an emergency fund should equal to three times the member’s monthly income. To do this, implement the following steps:\n",
    "\n",
    "    1. Create a variable named `emergency_fund_value`, and set it equal to three times the value of the member’s `monthly_income` of $12000. (You set this earlier in Part 1).\n",
    "\n",
    "    2. Create a series of three if statements to determine if the member’s total portfolio is large enough to fund the emergency portfolio:\n",
    "\n",
    "        1. If the total portfolio value is greater than the emergency fund value, display a message congratulating the member for having enough money in this fund.\n",
    "\n",
    "        2. Else if the total portfolio value is equal to the emergency fund value, display a message congratulating the member on reaching this important financial goal.\n",
    "\n",
    "        3. Else the total portfolio is less than the emergency fund value, so display a message showing how many dollars away the member is from reaching the goal. (Subtract the total portfolio value from the emergency fund value.)\n"
   ]
  },
  {
   "cell_type": "markdown",
   "metadata": {},
   "source": [
    "#### Step 1: Create a Python list named `savings_data` that has two elements. The first element contains the total value of the cryptocurrency wallet. The second element contains the total value of the stock and bond portions of the portfolio."
   ]
  },
  {
   "cell_type": "code",
   "execution_count": 25,
   "metadata": {},
   "outputs": [
    {
     "data": {
      "text/plain": [
       "[95204.00699999998, 80048.95]"
      ]
     },
     "execution_count": 25,
     "metadata": {},
     "output_type": "execute_result"
    }
   ],
   "source": [
    "# Consolidate financial assets data into a Python list\n",
    "savings_data=[total_crypto_wallet, total_stocks_bonds]\n",
    "\n",
    "# Review the Python list savings_data\n",
    "savings_data    "
   ]
  },
  {
   "cell_type": "code",
   "execution_count": null,
   "metadata": {},
   "outputs": [],
   "source": []
  },
  {
   "cell_type": "markdown",
   "metadata": {},
   "source": [
    "#### Step 2: Use the `savings_data` list to create a Pandas DataFrame named `savings_df`, and then display this DataFrame. The function to create the DataFrame should take the following three parameters:\n",
    "\n",
    "- `savings_data`: Use the list that you just created.\n",
    "\n",
    "- `columns`: Set this parameter equal to a Python list with a single value called `amount`.\n",
    "\n",
    "- `index`: Set this parameter equal to a Python list with the values of `crypto` and `stock/bond`.\n"
   ]
  },
  {
   "cell_type": "code",
   "execution_count": 26,
   "metadata": {},
   "outputs": [
    {
     "data": {
      "text/html": [
       "<div>\n",
       "<style scoped>\n",
       "    .dataframe tbody tr th:only-of-type {\n",
       "        vertical-align: middle;\n",
       "    }\n",
       "\n",
       "    .dataframe tbody tr th {\n",
       "        vertical-align: top;\n",
       "    }\n",
       "\n",
       "    .dataframe thead th {\n",
       "        text-align: right;\n",
       "    }\n",
       "</style>\n",
       "<table border=\"1\" class=\"dataframe\">\n",
       "  <thead>\n",
       "    <tr style=\"text-align: right;\">\n",
       "      <th></th>\n",
       "      <th>amount</th>\n",
       "    </tr>\n",
       "  </thead>\n",
       "  <tbody>\n",
       "    <tr>\n",
       "      <th>crypto</th>\n",
       "      <td>95204.007</td>\n",
       "    </tr>\n",
       "    <tr>\n",
       "      <th>stock/bond</th>\n",
       "      <td>80048.950</td>\n",
       "    </tr>\n",
       "  </tbody>\n",
       "</table>\n",
       "</div>"
      ],
      "text/plain": [
       "               amount\n",
       "crypto      95204.007\n",
       "stock/bond  80048.950"
      ]
     },
     "execution_count": 26,
     "metadata": {},
     "output_type": "execute_result"
    }
   ],
   "source": [
    "# Create a Pandas DataFrame called savings_df \n",
    "columns_names=[\"amount\"]\n",
    "index=[\"crypto\",\"stock/bond\"]\n",
    "savings_df=pd.DataFrame(data=savings_data,columns=columns_names,index=index)\n",
    "# Display the savings_df DataFrame\n",
    "savings_df"
   ]
  },
  {
   "cell_type": "markdown",
   "metadata": {},
   "source": [
    "#### Step 3: Use the `savings_df` DataFrame to plot a pie chart that visualizes the composition of the member’s portfolio. The y-axis of the pie chart uses `amount`. Be sure to add a title."
   ]
  },
  {
   "cell_type": "code",
   "execution_count": 27,
   "metadata": {},
   "outputs": [
    {
     "data": {
      "text/plain": [
       "<AxesSubplot:title={'center':'Total investment portflio'}, ylabel='amount'>"
      ]
     },
     "execution_count": 27,
     "metadata": {},
     "output_type": "execute_result"
    },
    {
     "data": {
      "image/png": "[encoded data removed]",
      "text/plain": [
       "<Figure size 432x288 with 1 Axes>"
      ]
     },
     "metadata": {},
     "output_type": "display_data"
    }
   ],
   "source": [
    "# Plot the total value of the member's portfolio (crypto and stock/bond) in a pie chart\n",
    "savings_df.plot(kind=\"pie\",title=\"Total investment portflio\",y=\"amount\" )"
   ]
  },
  {
   "cell_type": "markdown",
   "metadata": {},
   "source": [
    "#### Step 4: Using Python, determine if the current portfolio has enough to create an emergency fund as part of the member’s financial plan. Ideally, an emergency fund should equal to three times the member’s monthly income. To do this, implement the following steps:\n",
    "\n",
    "Step 1. Create a variable named `emergency_fund_value`, and set it equal to three times the value of the member’s `monthly_income` of 12000. (You set this earlier in Part 1).\n",
    "\n",
    "Step 2. Create a series of three if statements to determine if the member’s total portfolio is large enough to fund the emergency portfolio:\n",
    "\n",
    "* If the total portfolio value is greater than the emergency fund value, display a message congratulating the member for having enough money in this fund.\n",
    "\n",
    "* Else if the total portfolio value is equal to the emergency fund value, display a message congratulating the member on reaching this important financial goal.\n",
    "\n",
    "* Else the total portfolio is less than the emergency fund value, so display a message showing how many dollars away the member is from reaching the goal. (Subtract the total portfolio value from the emergency fund value.)\n"
   ]
  },
  {
   "cell_type": "markdown",
   "metadata": {},
   "source": [
    "##### Step 4-1: Create a variable named `emergency_fund_value`, and set it equal to three times the value of the member’s `monthly_income` of 12000. (You set this earlier in Part 1)."
   ]
  },
  {
   "cell_type": "code",
   "execution_count": 28,
   "metadata": {},
   "outputs": [],
   "source": [
    "# Create a variable named emergency_fund_value\n",
    "emergency_fund_value = monthly_income * 3"
   ]
  },
  {
   "cell_type": "markdown",
   "metadata": {},
   "source": [
    "##### Step 4-2: Create a series of three if statements to determine if the member’s total portfolio is large enough to fund the emergency portfolio:\n",
    "\n",
    "* If the total portfolio value is greater than the emergency fund value, display a message congratulating the member for having enough money in this fund.\n",
    "\n",
    "* Else if the total portfolio value is equal to the emergency fund value, display a message congratulating the member on reaching this important financial goal.\n",
    "\n",
    "* Else the total portfolio is less than the emergency fund value, so display a message showing how many dollars away the member is from reaching the goal. (Subtract the total portfolio value from the emergency fund value.)"
   ]
  },
  {
   "cell_type": "code",
   "execution_count": 29,
   "metadata": {},
   "outputs": [
    {
     "name": "stdout",
     "output_type": "stream",
     "text": [
      "Congratulations you have enough money in the fund!\n"
     ]
    }
   ],
   "source": [
    "# Evaluate the possibility of creating an emergency fund with 3 conditions:\n",
    "\n",
    "if total_portfolio>emergency_fund_value:\n",
    "    print(\"Congratulations you have enough money in the fund!\")\n",
    "elif total_portfolio==emergency_fund_value:\n",
    "    print(\"Congratulation on reaching important financial goal!\")\n",
    "else:\n",
    "    print(f\"You are ${emergency_fund_value-total_portfolio} away from reaching your financial goal.\")"
   ]
  },
  {
   "cell_type": "markdown",
   "metadata": {},
   "source": [
    "## Part 2: Create a Financial Planner for Retirement"
   ]
  },
  {
   "cell_type": "markdown",
   "metadata": {},
   "source": [
    "### Create the Monte Carlo Simulation\n",
    "\n",
    "In this section, you’ll use the MCForecastTools library to create a Monte Carlo simulation for the member’s savings portfolio. To do this, complete the following steps:\n",
    "\n",
    "1. Make an API call via the Alpaca SDK to get 3 years of historical closing prices for a traditional 60/40 portfolio split: 60% stocks (SPY) and 40% bonds (AGG).\n",
    "\n",
    "2. Run a Monte Carlo simulation of 500 samples and 30 years for the 60/40 portfolio, and then plot the results.The following image shows the overlay line plot resulting from a simulation with these characteristics. However, because a random number generator is used to run each live Monte Carlo simulation, your image will differ slightly from this exact image:\n",
    "\n",
    "![A screenshot depicts the resulting plot.](Images/5-4-monte-carlo-line-plot.png)\n",
    "\n",
    "3. Plot the probability distribution of the Monte Carlo simulation. Plot the probability distribution of the Monte Carlo simulation. The following image shows the histogram plot resulting from a simulation with these characteristics. However, because a random number generator is used to run each live Monte Carlo simulation, your image will differ slightly from this exact image:\n",
    "\n",
    "![A screenshot depicts the histogram plot.](Images/5-4-monte-carlo-histogram.png)\n",
    "\n",
    "4. Generate the summary statistics for the Monte Carlo simulation.\n",
    "\n"
   ]
  },
  {
   "cell_type": "markdown",
   "metadata": {},
   "source": [
    "#### Step 1: Make an API call via the Alpaca SDK to get 3 years of historical closing prices for a traditional 60/40 portfolio split: 60% stocks (SPY) and 40% bonds (AGG)."
   ]
  },
  {
   "cell_type": "code",
   "execution_count": 30,
   "metadata": {},
   "outputs": [],
   "source": [
    "# Set start and end dates of 3 years back from your current date\n",
    "# Alternatively, you can use an end date of 2020-08-07 and work 3 years back from that date \n",
    "start_date= pd.Timestamp(\"2018-08-07\", tz=\"America/New_York\").isoformat()\n",
    "end_date=pd.Timestamp(\"2021-08-07\", tz=\"America/New_York\").isoformat()\n",
    "# Set number of rows to 1000 to retrieve the maximum amount of rows\n",
    "max_rows=1000"
   ]
  },
  {
   "cell_type": "code",
   "execution_count": 31,
   "metadata": {},
   "outputs": [
    {
     "data": {
      "text/html": [
       "<div>\n",
       "<style scoped>\n",
       "    .dataframe tbody tr th:only-of-type {\n",
       "        vertical-align: middle;\n",
       "    }\n",
       "\n",
       "    .dataframe tbody tr th {\n",
       "        vertical-align: top;\n",
       "    }\n",
       "\n",
       "    .dataframe thead tr th {\n",
       "        text-align: left;\n",
       "    }\n",
       "\n",
       "    .dataframe thead tr:last-of-type th {\n",
       "        text-align: right;\n",
       "    }\n",
       "</style>\n",
       "<table border=\"1\" class=\"dataframe\">\n",
       "  <thead>\n",
       "    <tr>\n",
       "      <th></th>\n",
       "      <th colspan=\"5\" halign=\"left\">AGG</th>\n",
       "      <th colspan=\"5\" halign=\"left\">SPY</th>\n",
       "    </tr>\n",
       "    <tr>\n",
       "      <th></th>\n",
       "      <th>open</th>\n",
       "      <th>high</th>\n",
       "      <th>low</th>\n",
       "      <th>close</th>\n",
       "      <th>volume</th>\n",
       "      <th>open</th>\n",
       "      <th>high</th>\n",
       "      <th>low</th>\n",
       "      <th>close</th>\n",
       "      <th>volume</th>\n",
       "    </tr>\n",
       "    <tr>\n",
       "      <th>time</th>\n",
       "      <th></th>\n",
       "      <th></th>\n",
       "      <th></th>\n",
       "      <th></th>\n",
       "      <th></th>\n",
       "      <th></th>\n",
       "      <th></th>\n",
       "      <th></th>\n",
       "      <th></th>\n",
       "      <th></th>\n",
       "    </tr>\n",
       "  </thead>\n",
       "  <tbody>\n",
       "    <tr>\n",
       "      <th>2021-08-02 00:00:00-04:00</th>\n",
       "      <td>116.36</td>\n",
       "      <td>116.68</td>\n",
       "      <td>116.3050</td>\n",
       "      <td>116.53</td>\n",
       "      <td>4669027.0</td>\n",
       "      <td>440.34</td>\n",
       "      <td>440.9300</td>\n",
       "      <td>437.21</td>\n",
       "      <td>437.58</td>\n",
       "      <td>54098311</td>\n",
       "    </tr>\n",
       "    <tr>\n",
       "      <th>2021-08-03 00:00:00-04:00</th>\n",
       "      <td>116.56</td>\n",
       "      <td>116.69</td>\n",
       "      <td>116.5306</td>\n",
       "      <td>116.58</td>\n",
       "      <td>3021828.0</td>\n",
       "      <td>438.44</td>\n",
       "      <td>441.2800</td>\n",
       "      <td>436.10</td>\n",
       "      <td>441.12</td>\n",
       "      <td>52043386</td>\n",
       "    </tr>\n",
       "    <tr>\n",
       "      <th>2021-08-04 00:00:00-04:00</th>\n",
       "      <td>116.77</td>\n",
       "      <td>116.83</td>\n",
       "      <td>116.3000</td>\n",
       "      <td>116.57</td>\n",
       "      <td>4578711.0</td>\n",
       "      <td>439.77</td>\n",
       "      <td>441.1243</td>\n",
       "      <td>438.73</td>\n",
       "      <td>439.01</td>\n",
       "      <td>40289514</td>\n",
       "    </tr>\n",
       "    <tr>\n",
       "      <th>2021-08-05 00:00:00-04:00</th>\n",
       "      <td>116.46</td>\n",
       "      <td>116.48</td>\n",
       "      <td>116.2800</td>\n",
       "      <td>116.32</td>\n",
       "      <td>3170931.0</td>\n",
       "      <td>440.22</td>\n",
       "      <td>441.8500</td>\n",
       "      <td>439.88</td>\n",
       "      <td>441.77</td>\n",
       "      <td>34903127</td>\n",
       "    </tr>\n",
       "    <tr>\n",
       "      <th>2021-08-06 00:00:00-04:00</th>\n",
       "      <td>115.93</td>\n",
       "      <td>116.02</td>\n",
       "      <td>115.7800</td>\n",
       "      <td>115.79</td>\n",
       "      <td>3125122.0</td>\n",
       "      <td>442.10</td>\n",
       "      <td>442.9400</td>\n",
       "      <td>441.80</td>\n",
       "      <td>442.52</td>\n",
       "      <td>40274051</td>\n",
       "    </tr>\n",
       "  </tbody>\n",
       "</table>\n",
       "</div>"
      ],
      "text/plain": [
       "                              AGG                                       \\\n",
       "                             open    high       low   close     volume   \n",
       "time                                                                     \n",
       "2021-08-02 00:00:00-04:00  116.36  116.68  116.3050  116.53  4669027.0   \n",
       "2021-08-03 00:00:00-04:00  116.56  116.69  116.5306  116.58  3021828.0   \n",
       "2021-08-04 00:00:00-04:00  116.77  116.83  116.3000  116.57  4578711.0   \n",
       "2021-08-05 00:00:00-04:00  116.46  116.48  116.2800  116.32  3170931.0   \n",
       "2021-08-06 00:00:00-04:00  115.93  116.02  115.7800  115.79  3125122.0   \n",
       "\n",
       "                              SPY                                      \n",
       "                             open      high     low   close    volume  \n",
       "time                                                                   \n",
       "2021-08-02 00:00:00-04:00  440.34  440.9300  437.21  437.58  54098311  \n",
       "2021-08-03 00:00:00-04:00  438.44  441.2800  436.10  441.12  52043386  \n",
       "2021-08-04 00:00:00-04:00  439.77  441.1243  438.73  439.01  40289514  \n",
       "2021-08-05 00:00:00-04:00  440.22  441.8500  439.88  441.77  34903127  \n",
       "2021-08-06 00:00:00-04:00  442.10  442.9400  441.80  442.52  40274051  "
      ]
     },
     "execution_count": 31,
     "metadata": {},
     "output_type": "execute_result"
    }
   ],
   "source": [
    "# Use the Alpaca get_barset function to make the API call to get the 3 years worth of pricing data\n",
    "# The tickers and timeframe parameters should have been set in Part 1 of this activity \n",
    "# The start and end dates should be updated with the information set above\n",
    "# Remember to add the df property to the end of the call so the response is returned as a DataFrame\n",
    "historical_df=alpaca_api.get_barset(\n",
    "    tickers,\n",
    "    timeframe,\n",
    "    start=start_date,\n",
    "    end=end_date,\n",
    "    limit=max_rows\n",
    "    ).df\n",
    "\n",
    "# Display both the first and last five rows of the DataFrame\n",
    "historical_df.head()\n",
    "historical_df.tail()"
   ]
  },
  {
   "cell_type": "markdown",
   "metadata": {},
   "source": [
    "#### Step 2: Run a Monte Carlo simulation of 500 samples and 30 years for the 60/40 portfolio, and then plot the results."
   ]
  },
  {
   "cell_type": "code",
   "execution_count": 32,
   "metadata": {},
   "outputs": [
    {
     "data": {
      "text/html": [
       "<div>\n",
       "<style scoped>\n",
       "    .dataframe tbody tr th:only-of-type {\n",
       "        vertical-align: middle;\n",
       "    }\n",
       "\n",
       "    .dataframe tbody tr th {\n",
       "        vertical-align: top;\n",
       "    }\n",
       "\n",
       "    .dataframe thead tr th {\n",
       "        text-align: left;\n",
       "    }\n",
       "\n",
       "    .dataframe thead tr:last-of-type th {\n",
       "        text-align: right;\n",
       "    }\n",
       "</style>\n",
       "<table border=\"1\" class=\"dataframe\">\n",
       "  <thead>\n",
       "    <tr>\n",
       "      <th></th>\n",
       "      <th colspan=\"6\" halign=\"left\">AGG</th>\n",
       "      <th colspan=\"6\" halign=\"left\">SPY</th>\n",
       "    </tr>\n",
       "    <tr>\n",
       "      <th></th>\n",
       "      <th>open</th>\n",
       "      <th>high</th>\n",
       "      <th>low</th>\n",
       "      <th>close</th>\n",
       "      <th>volume</th>\n",
       "      <th>daily_return</th>\n",
       "      <th>open</th>\n",
       "      <th>high</th>\n",
       "      <th>low</th>\n",
       "      <th>close</th>\n",
       "      <th>volume</th>\n",
       "      <th>daily_return</th>\n",
       "    </tr>\n",
       "    <tr>\n",
       "      <th>time</th>\n",
       "      <th></th>\n",
       "      <th></th>\n",
       "      <th></th>\n",
       "      <th></th>\n",
       "      <th></th>\n",
       "      <th></th>\n",
       "      <th></th>\n",
       "      <th></th>\n",
       "      <th></th>\n",
       "      <th></th>\n",
       "      <th></th>\n",
       "      <th></th>\n",
       "    </tr>\n",
       "  </thead>\n",
       "  <tbody>\n",
       "    <tr>\n",
       "      <th>2018-08-07 00:00:00-04:00</th>\n",
       "      <td>105.97</td>\n",
       "      <td>105.97</td>\n",
       "      <td>105.8250</td>\n",
       "      <td>105.840</td>\n",
       "      <td>2368151.0</td>\n",
       "      <td>NaN</td>\n",
       "      <td>285.39</td>\n",
       "      <td>286.010</td>\n",
       "      <td>285.240</td>\n",
       "      <td>285.54</td>\n",
       "      <td>32455420</td>\n",
       "      <td>NaN</td>\n",
       "    </tr>\n",
       "    <tr>\n",
       "      <th>2018-08-08 00:00:00-04:00</th>\n",
       "      <td>105.83</td>\n",
       "      <td>105.91</td>\n",
       "      <td>105.8000</td>\n",
       "      <td>105.845</td>\n",
       "      <td>1613011.0</td>\n",
       "      <td>0.000047</td>\n",
       "      <td>285.39</td>\n",
       "      <td>285.910</td>\n",
       "      <td>284.940</td>\n",
       "      <td>285.42</td>\n",
       "      <td>29142601</td>\n",
       "      <td>-0.000420</td>\n",
       "    </tr>\n",
       "    <tr>\n",
       "      <th>2018-08-09 00:00:00-04:00</th>\n",
       "      <td>105.97</td>\n",
       "      <td>106.04</td>\n",
       "      <td>105.9329</td>\n",
       "      <td>106.030</td>\n",
       "      <td>2168479.0</td>\n",
       "      <td>0.001748</td>\n",
       "      <td>285.53</td>\n",
       "      <td>285.970</td>\n",
       "      <td>284.915</td>\n",
       "      <td>285.06</td>\n",
       "      <td>24338809</td>\n",
       "      <td>-0.001261</td>\n",
       "    </tr>\n",
       "    <tr>\n",
       "      <th>2018-08-10 00:00:00-04:00</th>\n",
       "      <td>106.11</td>\n",
       "      <td>106.36</td>\n",
       "      <td>106.1100</td>\n",
       "      <td>106.230</td>\n",
       "      <td>2555922.0</td>\n",
       "      <td>0.001886</td>\n",
       "      <td>283.45</td>\n",
       "      <td>284.055</td>\n",
       "      <td>282.360</td>\n",
       "      <td>283.12</td>\n",
       "      <td>56622478</td>\n",
       "      <td>-0.006806</td>\n",
       "    </tr>\n",
       "    <tr>\n",
       "      <th>2018-08-13 00:00:00-04:00</th>\n",
       "      <td>106.16</td>\n",
       "      <td>106.30</td>\n",
       "      <td>106.1501</td>\n",
       "      <td>106.285</td>\n",
       "      <td>2558386.0</td>\n",
       "      <td>0.000518</td>\n",
       "      <td>283.47</td>\n",
       "      <td>284.160</td>\n",
       "      <td>281.770</td>\n",
       "      <td>282.05</td>\n",
       "      <td>49247799</td>\n",
       "      <td>-0.003779</td>\n",
       "    </tr>\n",
       "  </tbody>\n",
       "</table>\n",
       "</div>"
      ],
      "text/plain": [
       "                              AGG                                        \\\n",
       "                             open    high       low    close     volume   \n",
       "time                                                                      \n",
       "2018-08-07 00:00:00-04:00  105.97  105.97  105.8250  105.840  2368151.0   \n",
       "2018-08-08 00:00:00-04:00  105.83  105.91  105.8000  105.845  1613011.0   \n",
       "2018-08-09 00:00:00-04:00  105.97  106.04  105.9329  106.030  2168479.0   \n",
       "2018-08-10 00:00:00-04:00  106.11  106.36  106.1100  106.230  2555922.0   \n",
       "2018-08-13 00:00:00-04:00  106.16  106.30  106.1501  106.285  2558386.0   \n",
       "\n",
       "                                           SPY                            \\\n",
       "                          daily_return    open     high      low   close   \n",
       "time                                                                       \n",
       "2018-08-07 00:00:00-04:00          NaN  285.39  286.010  285.240  285.54   \n",
       "2018-08-08 00:00:00-04:00     0.000047  285.39  285.910  284.940  285.42   \n",
       "2018-08-09 00:00:00-04:00     0.001748  285.53  285.970  284.915  285.06   \n",
       "2018-08-10 00:00:00-04:00     0.001886  283.45  284.055  282.360  283.12   \n",
       "2018-08-13 00:00:00-04:00     0.000518  283.47  284.160  281.770  282.05   \n",
       "\n",
       "                                                  \n",
       "                             volume daily_return  \n",
       "time                                              \n",
       "2018-08-07 00:00:00-04:00  32455420          NaN  \n",
       "2018-08-08 00:00:00-04:00  29142601    -0.000420  \n",
       "2018-08-09 00:00:00-04:00  24338809    -0.001261  \n",
       "2018-08-10 00:00:00-04:00  56622478    -0.006806  \n",
       "2018-08-13 00:00:00-04:00  49247799    -0.003779  "
      ]
     },
     "execution_count": 32,
     "metadata": {},
     "output_type": "execute_result"
    }
   ],
   "source": [
    "# Configure the Monte Carlo simulation to forecast 30 years cumulative returns\n",
    "# The weights should be split 40% to AGG and 60% to SPY.\n",
    "# Run 500 samples.\n",
    "Monte_Carlo_30years=MCSimulation(\n",
    "    portfolio_data=historical_df,\n",
    "    weights=[0.60,0.40],\n",
    "    num_simulation=500,\n",
    "    num_trading_days=252*30\n",
    ")\n",
    "# Review the simulation input data\n",
    "Monte_Carlo_30years.portfolio_data.head()"
   ]
  },
  {
   "cell_type": "code",
   "execution_count": 33,
   "metadata": {},
   "outputs": [
    {
     "name": "stdout",
     "output_type": "stream",
     "text": [
      "Running Monte Carlo simulation number 0.\n",
      "Running Monte Carlo simulation number 10.\n",
      "Running Monte Carlo simulation number 20.\n",
      "Running Monte Carlo simulation number 30.\n",
      "Running Monte Carlo simulation number 40.\n",
      "Running Monte Carlo simulation number 50.\n",
      "Running Monte Carlo simulation number 60.\n",
      "Running Monte Carlo simulation number 70.\n",
      "Running Monte Carlo simulation number 80.\n",
      "Running Monte Carlo simulation number 90.\n",
      "Running Monte Carlo simulation number 100.\n",
      "Running Monte Carlo simulation number 110.\n",
      "Running Monte Carlo simulation number 120.\n",
      "Running Monte Carlo simulation number 130.\n",
      "Running Monte Carlo simulation number 140.\n",
      "Running Monte Carlo simulation number 150.\n",
      "Running Monte Carlo simulation number 160.\n",
      "Running Monte Carlo simulation number 170.\n",
      "Running Monte Carlo simulation number 180.\n",
      "Running Monte Carlo simulation number 190.\n",
      "Running Monte Carlo simulation number 200.\n",
      "Running Monte Carlo simulation number 210.\n",
      "Running Monte Carlo simulation number 220.\n",
      "Running Monte Carlo simulation number 230.\n",
      "Running Monte Carlo simulation number 240.\n",
      "Running Monte Carlo simulation number 250.\n",
      "Running Monte Carlo simulation number 260.\n",
      "Running Monte Carlo simulation number 270.\n",
      "Running Monte Carlo simulation number 280.\n",
      "Running Monte Carlo simulation number 290.\n",
      "Running Monte Carlo simulation number 300.\n",
      "Running Monte Carlo simulation number 310.\n",
      "Running Monte Carlo simulation number 320.\n",
      "Running Monte Carlo simulation number 330.\n",
      "Running Monte Carlo simulation number 340.\n",
      "Running Monte Carlo simulation number 350.\n",
      "Running Monte Carlo simulation number 360.\n",
      "Running Monte Carlo simulation number 370.\n",
      "Running Monte Carlo simulation number 380.\n",
      "Running Monte Carlo simulation number 390.\n",
      "Running Monte Carlo simulation number 400.\n",
      "Running Monte Carlo simulation number 410.\n",
      "Running Monte Carlo simulation number 420.\n",
      "Running Monte Carlo simulation number 430.\n",
      "Running Monte Carlo simulation number 440.\n",
      "Running Monte Carlo simulation number 450.\n",
      "Running Monte Carlo simulation number 460.\n",
      "Running Monte Carlo simulation number 470.\n",
      "Running Monte Carlo simulation number 480.\n",
      "Running Monte Carlo simulation number 490.\n"
     ]
    },
    {
     "data": {
      "text/html": [
       "<div>\n",
       "<style scoped>\n",
       "    .dataframe tbody tr th:only-of-type {\n",
       "        vertical-align: middle;\n",
       "    }\n",
       "\n",
       "    .dataframe tbody tr th {\n",
       "        vertical-align: top;\n",
       "    }\n",
       "\n",
       "    .dataframe thead th {\n",
       "        text-align: right;\n",
       "    }\n",
       "</style>\n",
       "<table border=\"1\" class=\"dataframe\">\n",
       "  <thead>\n",
       "    <tr style=\"text-align: right;\">\n",
       "      <th></th>\n",
       "      <th>0</th>\n",
       "      <th>1</th>\n",
       "      <th>2</th>\n",
       "      <th>3</th>\n",
       "      <th>4</th>\n",
       "      <th>5</th>\n",
       "      <th>6</th>\n",
       "      <th>7</th>\n",
       "      <th>8</th>\n",
       "      <th>9</th>\n",
       "      <th>...</th>\n",
       "      <th>490</th>\n",
       "      <th>491</th>\n",
       "      <th>492</th>\n",
       "      <th>493</th>\n",
       "      <th>494</th>\n",
       "      <th>495</th>\n",
       "      <th>496</th>\n",
       "      <th>497</th>\n",
       "      <th>498</th>\n",
       "      <th>499</th>\n",
       "    </tr>\n",
       "  </thead>\n",
       "  <tbody>\n",
       "    <tr>\n",
       "      <th>0</th>\n",
       "      <td>1.000000</td>\n",
       "      <td>1.000000</td>\n",
       "      <td>1.000000</td>\n",
       "      <td>1.000000</td>\n",
       "      <td>1.000000</td>\n",
       "      <td>1.000000</td>\n",
       "      <td>1.000000</td>\n",
       "      <td>1.000000</td>\n",
       "      <td>1.000000</td>\n",
       "      <td>1.000000</td>\n",
       "      <td>...</td>\n",
       "      <td>1.000000</td>\n",
       "      <td>1.000000</td>\n",
       "      <td>1.000000</td>\n",
       "      <td>1.000000</td>\n",
       "      <td>1.000000</td>\n",
       "      <td>1.000000</td>\n",
       "      <td>1.000000</td>\n",
       "      <td>1.000000</td>\n",
       "      <td>1.000000</td>\n",
       "      <td>1.000000</td>\n",
       "    </tr>\n",
       "    <tr>\n",
       "      <th>1</th>\n",
       "      <td>1.001769</td>\n",
       "      <td>0.995722</td>\n",
       "      <td>0.997953</td>\n",
       "      <td>0.997428</td>\n",
       "      <td>1.001255</td>\n",
       "      <td>1.000886</td>\n",
       "      <td>1.000051</td>\n",
       "      <td>0.995871</td>\n",
       "      <td>0.992454</td>\n",
       "      <td>0.992225</td>\n",
       "      <td>...</td>\n",
       "      <td>1.001412</td>\n",
       "      <td>1.004487</td>\n",
       "      <td>1.008791</td>\n",
       "      <td>0.997119</td>\n",
       "      <td>0.995266</td>\n",
       "      <td>0.993215</td>\n",
       "      <td>1.015691</td>\n",
       "      <td>1.009084</td>\n",
       "      <td>1.002753</td>\n",
       "      <td>0.996632</td>\n",
       "    </tr>\n",
       "    <tr>\n",
       "      <th>2</th>\n",
       "      <td>1.002161</td>\n",
       "      <td>1.001168</td>\n",
       "      <td>1.006047</td>\n",
       "      <td>0.988455</td>\n",
       "      <td>1.017953</td>\n",
       "      <td>1.003749</td>\n",
       "      <td>1.007436</td>\n",
       "      <td>0.991698</td>\n",
       "      <td>1.005552</td>\n",
       "      <td>0.989847</td>\n",
       "      <td>...</td>\n",
       "      <td>1.001842</td>\n",
       "      <td>0.998260</td>\n",
       "      <td>1.015766</td>\n",
       "      <td>1.001772</td>\n",
       "      <td>1.000228</td>\n",
       "      <td>0.988359</td>\n",
       "      <td>1.024780</td>\n",
       "      <td>1.014940</td>\n",
       "      <td>1.004907</td>\n",
       "      <td>0.995707</td>\n",
       "    </tr>\n",
       "    <tr>\n",
       "      <th>3</th>\n",
       "      <td>1.007282</td>\n",
       "      <td>1.004468</td>\n",
       "      <td>1.006919</td>\n",
       "      <td>0.986763</td>\n",
       "      <td>1.006773</td>\n",
       "      <td>0.987050</td>\n",
       "      <td>1.002474</td>\n",
       "      <td>0.993097</td>\n",
       "      <td>1.007400</td>\n",
       "      <td>0.995326</td>\n",
       "      <td>...</td>\n",
       "      <td>0.997686</td>\n",
       "      <td>0.997273</td>\n",
       "      <td>1.016636</td>\n",
       "      <td>0.996937</td>\n",
       "      <td>0.994222</td>\n",
       "      <td>0.991143</td>\n",
       "      <td>1.016549</td>\n",
       "      <td>1.010962</td>\n",
       "      <td>1.018396</td>\n",
       "      <td>0.997942</td>\n",
       "    </tr>\n",
       "    <tr>\n",
       "      <th>4</th>\n",
       "      <td>1.014911</td>\n",
       "      <td>1.011056</td>\n",
       "      <td>1.000060</td>\n",
       "      <td>0.987090</td>\n",
       "      <td>0.991462</td>\n",
       "      <td>0.987212</td>\n",
       "      <td>1.009242</td>\n",
       "      <td>0.994588</td>\n",
       "      <td>1.010459</td>\n",
       "      <td>0.997795</td>\n",
       "      <td>...</td>\n",
       "      <td>0.996195</td>\n",
       "      <td>1.002671</td>\n",
       "      <td>1.014410</td>\n",
       "      <td>1.001530</td>\n",
       "      <td>0.991650</td>\n",
       "      <td>0.998193</td>\n",
       "      <td>1.009386</td>\n",
       "      <td>1.014319</td>\n",
       "      <td>1.015629</td>\n",
       "      <td>1.007125</td>\n",
       "    </tr>\n",
       "    <tr>\n",
       "      <th>...</th>\n",
       "      <td>...</td>\n",
       "      <td>...</td>\n",
       "      <td>...</td>\n",
       "      <td>...</td>\n",
       "      <td>...</td>\n",
       "      <td>...</td>\n",
       "      <td>...</td>\n",
       "      <td>...</td>\n",
       "      <td>...</td>\n",
       "      <td>...</td>\n",
       "      <td>...</td>\n",
       "      <td>...</td>\n",
       "      <td>...</td>\n",
       "      <td>...</td>\n",
       "      <td>...</td>\n",
       "      <td>...</td>\n",
       "      <td>...</td>\n",
       "      <td>...</td>\n",
       "      <td>...</td>\n",
       "      <td>...</td>\n",
       "      <td>...</td>\n",
       "    </tr>\n",
       "    <tr>\n",
       "      <th>7556</th>\n",
       "      <td>7.364458</td>\n",
       "      <td>9.421794</td>\n",
       "      <td>15.725020</td>\n",
       "      <td>11.956036</td>\n",
       "      <td>11.313312</td>\n",
       "      <td>5.628827</td>\n",
       "      <td>15.027499</td>\n",
       "      <td>4.480304</td>\n",
       "      <td>10.904535</td>\n",
       "      <td>10.529888</td>\n",
       "      <td>...</td>\n",
       "      <td>4.918201</td>\n",
       "      <td>19.498180</td>\n",
       "      <td>5.818250</td>\n",
       "      <td>7.396682</td>\n",
       "      <td>14.470496</td>\n",
       "      <td>13.680734</td>\n",
       "      <td>9.511162</td>\n",
       "      <td>14.485329</td>\n",
       "      <td>10.331552</td>\n",
       "      <td>12.189922</td>\n",
       "    </tr>\n",
       "    <tr>\n",
       "      <th>7557</th>\n",
       "      <td>7.403520</td>\n",
       "      <td>9.438897</td>\n",
       "      <td>15.668611</td>\n",
       "      <td>11.853322</td>\n",
       "      <td>11.333346</td>\n",
       "      <td>5.631662</td>\n",
       "      <td>14.886782</td>\n",
       "      <td>4.453107</td>\n",
       "      <td>10.949815</td>\n",
       "      <td>10.410164</td>\n",
       "      <td>...</td>\n",
       "      <td>4.961855</td>\n",
       "      <td>19.425979</td>\n",
       "      <td>5.817685</td>\n",
       "      <td>7.415318</td>\n",
       "      <td>14.481767</td>\n",
       "      <td>13.805427</td>\n",
       "      <td>9.410314</td>\n",
       "      <td>14.701916</td>\n",
       "      <td>10.246735</td>\n",
       "      <td>12.253561</td>\n",
       "    </tr>\n",
       "    <tr>\n",
       "      <th>7558</th>\n",
       "      <td>7.442082</td>\n",
       "      <td>9.434652</td>\n",
       "      <td>15.404894</td>\n",
       "      <td>11.839054</td>\n",
       "      <td>11.292113</td>\n",
       "      <td>5.678544</td>\n",
       "      <td>14.835597</td>\n",
       "      <td>4.425174</td>\n",
       "      <td>10.993451</td>\n",
       "      <td>10.438219</td>\n",
       "      <td>...</td>\n",
       "      <td>4.997237</td>\n",
       "      <td>19.420604</td>\n",
       "      <td>5.820241</td>\n",
       "      <td>7.420703</td>\n",
       "      <td>14.433403</td>\n",
       "      <td>13.692207</td>\n",
       "      <td>9.432321</td>\n",
       "      <td>14.798156</td>\n",
       "      <td>10.293686</td>\n",
       "      <td>12.376628</td>\n",
       "    </tr>\n",
       "    <tr>\n",
       "      <th>7559</th>\n",
       "      <td>7.470638</td>\n",
       "      <td>9.439319</td>\n",
       "      <td>15.365143</td>\n",
       "      <td>11.878581</td>\n",
       "      <td>11.342444</td>\n",
       "      <td>5.650867</td>\n",
       "      <td>14.819925</td>\n",
       "      <td>4.385799</td>\n",
       "      <td>11.115352</td>\n",
       "      <td>10.436419</td>\n",
       "      <td>...</td>\n",
       "      <td>5.008291</td>\n",
       "      <td>19.380447</td>\n",
       "      <td>5.820690</td>\n",
       "      <td>7.556812</td>\n",
       "      <td>14.484361</td>\n",
       "      <td>13.615369</td>\n",
       "      <td>9.485616</td>\n",
       "      <td>14.749413</td>\n",
       "      <td>10.378159</td>\n",
       "      <td>12.227028</td>\n",
       "    </tr>\n",
       "    <tr>\n",
       "      <th>7560</th>\n",
       "      <td>7.477687</td>\n",
       "      <td>9.497210</td>\n",
       "      <td>15.426376</td>\n",
       "      <td>11.965490</td>\n",
       "      <td>11.359449</td>\n",
       "      <td>5.648162</td>\n",
       "      <td>14.780793</td>\n",
       "      <td>4.406461</td>\n",
       "      <td>11.101481</td>\n",
       "      <td>10.466733</td>\n",
       "      <td>...</td>\n",
       "      <td>5.013872</td>\n",
       "      <td>19.432915</td>\n",
       "      <td>5.779571</td>\n",
       "      <td>7.566598</td>\n",
       "      <td>14.532154</td>\n",
       "      <td>13.610940</td>\n",
       "      <td>9.508327</td>\n",
       "      <td>14.651342</td>\n",
       "      <td>10.330258</td>\n",
       "      <td>12.303245</td>\n",
       "    </tr>\n",
       "  </tbody>\n",
       "</table>\n",
       "<p>7561 rows × 500 columns</p>\n",
       "</div>"
      ],
      "text/plain": [
       "           0         1          2          3          4         5    \\\n",
       "0     1.000000  1.000000   1.000000   1.000000   1.000000  1.000000   \n",
       "1     1.001769  0.995722   0.997953   0.997428   1.001255  1.000886   \n",
       "2     1.002161  1.001168   1.006047   0.988455   1.017953  1.003749   \n",
       "3     1.007282  1.004468   1.006919   0.986763   1.006773  0.987050   \n",
       "4     1.014911  1.011056   1.000060   0.987090   0.991462  0.987212   \n",
       "...        ...       ...        ...        ...        ...       ...   \n",
       "7556  7.364458  9.421794  15.725020  11.956036  11.313312  5.628827   \n",
       "7557  7.403520  9.438897  15.668611  11.853322  11.333346  5.631662   \n",
       "7558  7.442082  9.434652  15.404894  11.839054  11.292113  5.678544   \n",
       "7559  7.470638  9.439319  15.365143  11.878581  11.342444  5.650867   \n",
       "7560  7.477687  9.497210  15.426376  11.965490  11.359449  5.648162   \n",
       "\n",
       "            6         7          8          9    ...       490        491  \\\n",
       "0      1.000000  1.000000   1.000000   1.000000  ...  1.000000   1.000000   \n",
       "1      1.000051  0.995871   0.992454   0.992225  ...  1.001412   1.004487   \n",
       "2      1.007436  0.991698   1.005552   0.989847  ...  1.001842   0.998260   \n",
       "3      1.002474  0.993097   1.007400   0.995326  ...  0.997686   0.997273   \n",
       "4      1.009242  0.994588   1.010459   0.997795  ...  0.996195   1.002671   \n",
       "...         ...       ...        ...        ...  ...       ...        ...   \n",
       "7556  15.027499  4.480304  10.904535  10.529888  ...  4.918201  19.498180   \n",
       "7557  14.886782  4.453107  10.949815  10.410164  ...  4.961855  19.425979   \n",
       "7558  14.835597  4.425174  10.993451  10.438219  ...  4.997237  19.420604   \n",
       "7559  14.819925  4.385799  11.115352  10.436419  ...  5.008291  19.380447   \n",
       "7560  14.780793  4.406461  11.101481  10.466733  ...  5.013872  19.432915   \n",
       "\n",
       "           492       493        494        495       496        497  \\\n",
       "0     1.000000  1.000000   1.000000   1.000000  1.000000   1.000000   \n",
       "1     1.008791  0.997119   0.995266   0.993215  1.015691   1.009084   \n",
       "2     1.015766  1.001772   1.000228   0.988359  1.024780   1.014940   \n",
       "3     1.016636  0.996937   0.994222   0.991143  1.016549   1.010962   \n",
       "4     1.014410  1.001530   0.991650   0.998193  1.009386   1.014319   \n",
       "...        ...       ...        ...        ...       ...        ...   \n",
       "7556  5.818250  7.396682  14.470496  13.680734  9.511162  14.485329   \n",
       "7557  5.817685  7.415318  14.481767  13.805427  9.410314  14.701916   \n",
       "7558  5.820241  7.420703  14.433403  13.692207  9.432321  14.798156   \n",
       "7559  5.820690  7.556812  14.484361  13.615369  9.485616  14.749413   \n",
       "7560  5.779571  7.566598  14.532154  13.610940  9.508327  14.651342   \n",
       "\n",
       "            498        499  \n",
       "0      1.000000   1.000000  \n",
       "1      1.002753   0.996632  \n",
       "2      1.004907   0.995707  \n",
       "3      1.018396   0.997942  \n",
       "4      1.015629   1.007125  \n",
       "...         ...        ...  \n",
       "7556  10.331552  12.189922  \n",
       "7557  10.246735  12.253561  \n",
       "7558  10.293686  12.376628  \n",
       "7559  10.378159  12.227028  \n",
       "7560  10.330258  12.303245  \n",
       "\n",
       "[7561 rows x 500 columns]"
      ]
     },
     "execution_count": 33,
     "metadata": {},
     "output_type": "execute_result"
    }
   ],
   "source": [
    "# Run the Monte Carlo simulation to forecast 30 years cumulative returns\n",
    "Monte_Carlo_30years.calc_cumulative_return()"
   ]
  },
  {
   "cell_type": "code",
   "execution_count": 34,
   "metadata": {},
   "outputs": [
    {
     "data": {
      "text/plain": [
       "<AxesSubplot:title={'center':'500 Simulations of Cumulative Portfolio Return Trajectories Over the Next 7560 Trading Days.'}>"
      ]
     },
     "execution_count": 34,
     "metadata": {},
     "output_type": "execute_result"
    },
    {
     "data": {
      "image/png": "[encoded data removed]",
      "text/plain": [
       "<Figure size 432x288 with 1 Axes>"
      ]
     },
     "metadata": {
      "needs_background": "light"
     },
     "output_type": "display_data"
    }
   ],
   "source": [
    "# Visualize the 30-year Monte Carlo simulation by creating an\n",
    "# overlay line plot\n",
    "Monte_Carlo_30years.plot_simulation()"
   ]
  },
  {
   "cell_type": "markdown",
   "metadata": {},
   "source": [
    "#### Step 3: Plot the probability distribution of the Monte Carlo simulation."
   ]
  },
  {
   "cell_type": "code",
   "execution_count": 35,
   "metadata": {},
   "outputs": [
    {
     "data": {
      "image/png": "[encoded data removed]",
      "text/plain": [
       "<Figure size 432x288 with 1 Axes>"
      ]
     },
     "metadata": {
      "needs_background": "light"
     },
     "output_type": "display_data"
    }
   ],
   "source": [
    "# Visualize the probability distribution of the 30-year Monte Carlo simulation \n",
    "# by plotting a histogram\n",
    "MC_30y_plot=Monte_Carlo_30years.plot_distribution()"
   ]
  },
  {
   "cell_type": "markdown",
   "metadata": {},
   "source": [
    "#### Step 4: Generate the summary statistics for the Monte Carlo simulation."
   ]
  },
  {
   "cell_type": "code",
   "execution_count": 36,
   "metadata": {},
   "outputs": [
    {
     "data": {
      "text/plain": [
       "count           500.000000\n",
       "mean             13.663075\n",
       "std               8.018103\n",
       "min               2.969704\n",
       "25%               8.363122\n",
       "50%              11.959266\n",
       "75%              16.775611\n",
       "max              69.131419\n",
       "95% CI Lower      4.338356\n",
       "95% CI Upper     32.966332\n",
       "Name: 7560, dtype: float64"
      ]
     },
     "execution_count": 36,
     "metadata": {},
     "output_type": "execute_result"
    }
   ],
   "source": [
    "# Generate summary statistics from the 30-year Monte Carlo simulation results\n",
    "# Save the results as a variable\n",
    "MC_30y_sum_stat = Monte_Carlo_30years.summarize_cumulative_return()\n",
    "\n",
    "# Review the 30-year Monte Carlo summary statistics\n",
    "MC_30y_sum_stat"
   ]
  },
  {
   "cell_type": "markdown",
   "metadata": {},
   "source": [
    "### Analyze the Retirement Portfolio Forecasts\n",
    "\n",
    "Using the current value of only the stock and bond portion of the member's portfolio and the summary statistics that you generated from the Monte Carlo simulation, answer the following question in your Jupyter notebook:\n",
    "\n",
    "-  What are the lower and upper bounds for the expected value of the portfolio with a 95% confidence interval?\n"
   ]
  },
  {
   "cell_type": "markdown",
   "metadata": {},
   "source": [
    "The lower bound for the expected value whit an 95% confidence interval is 6.35, the upper bound is 47.42. "
   ]
  },
  {
   "cell_type": "code",
   "execution_count": 37,
   "metadata": {},
   "outputs": [
    {
     "name": "stdout",
     "output_type": "stream",
     "text": [
      "The stock and bond portolio value is $ 80,048.95\n"
     ]
    }
   ],
   "source": [
    "# Print the current balance of the stock and bond portion of the members portfolio\n",
    "print(f\"The stock and bond portolio value is ${total_stocks_bonds: ,.2f}\")"
   ]
  },
  {
   "cell_type": "code",
   "execution_count": 38,
   "metadata": {},
   "outputs": [
    {
     "name": "stdout",
     "output_type": "stream",
     "text": [
      " Within 95% of confidence interval, the portfolio (with 60/40 weights of stock/bonds) might flactuate between $ 347,280.9 and $ 2,638,920.3 in 30 years.\n"
     ]
    }
   ],
   "source": [
    "# Use the lower and upper `95%` confidence intervals to calculate the range of the possible outcomes for the current stock/bond portfolio\n",
    "ci_lower_thirty_cumulative_return = MC_30y_sum_stat[8]*total_stocks_bonds\n",
    "ci_upper_thirty_cumulative_return = MC_30y_sum_stat[9]*total_stocks_bonds\n",
    "\n",
    "# Print the result of your calculations\n",
    "print(f\" Within 95% of confidence interval, the portfolio (with 60/40 weights of stock/bonds) might flactuate between ${ci_lower_thirty_cumulative_return: ,.1f} and ${ci_upper_thirty_cumulative_return: ,.1f} in 30 years.\")"
   ]
  },
  {
   "cell_type": "markdown",
   "metadata": {},
   "source": [
    "### Forecast Cumulative Returns in 10 Years\n",
    "\n",
    "The CTO of the credit union is impressed with your work on these planning tools but wonders if 30 years is a long time to wait until retirement. So, your next task is to adjust the retirement portfolio and run a new Monte Carlo simulation to find out if the changes will allow members to retire earlier.\n",
    "\n",
    "For this new Monte Carlo simulation, do the following: \n",
    "\n",
    "- Forecast the cumulative returns for 10 years from now. Because of the shortened investment horizon (30 years to 10 years), the portfolio needs to invest more heavily in the riskier asset&mdash;that is, stock&mdash;to help accumulate wealth for retirement. \n",
    "\n",
    "- Adjust the weights of the retirement portfolio so that the composition for the Monte Carlo simulation consists of 20% bonds and 80% stocks. \n",
    "\n",
    "- Run the simulation over 500 samples, and use the same data that the API call to Alpaca generated.\n",
    "\n",
    "- Based on the new Monte Carlo simulation, answer the following questions in your Jupyter notebook:\n",
    "\n",
    "    - Using the current value of only the stock and bond portion of the member's portfolio and the summary statistics that you generated from the new Monte Carlo simulation, what are the lower and upper bounds for the expected value of the portfolio (with the new weights) with a 95% confidence interval?\n",
    "\n",
    "    - Will weighting the portfolio more heavily toward stocks allow the credit union members to retire after only 10 years?\n"
   ]
  },
  {
   "cell_type": "code",
   "execution_count": 39,
   "metadata": {},
   "outputs": [
    {
     "data": {
      "text/html": [
       "<div>\n",
       "<style scoped>\n",
       "    .dataframe tbody tr th:only-of-type {\n",
       "        vertical-align: middle;\n",
       "    }\n",
       "\n",
       "    .dataframe tbody tr th {\n",
       "        vertical-align: top;\n",
       "    }\n",
       "\n",
       "    .dataframe thead tr th {\n",
       "        text-align: left;\n",
       "    }\n",
       "\n",
       "    .dataframe thead tr:last-of-type th {\n",
       "        text-align: right;\n",
       "    }\n",
       "</style>\n",
       "<table border=\"1\" class=\"dataframe\">\n",
       "  <thead>\n",
       "    <tr>\n",
       "      <th></th>\n",
       "      <th colspan=\"6\" halign=\"left\">AGG</th>\n",
       "      <th colspan=\"6\" halign=\"left\">SPY</th>\n",
       "    </tr>\n",
       "    <tr>\n",
       "      <th></th>\n",
       "      <th>open</th>\n",
       "      <th>high</th>\n",
       "      <th>low</th>\n",
       "      <th>close</th>\n",
       "      <th>volume</th>\n",
       "      <th>daily_return</th>\n",
       "      <th>open</th>\n",
       "      <th>high</th>\n",
       "      <th>low</th>\n",
       "      <th>close</th>\n",
       "      <th>volume</th>\n",
       "      <th>daily_return</th>\n",
       "    </tr>\n",
       "    <tr>\n",
       "      <th>time</th>\n",
       "      <th></th>\n",
       "      <th></th>\n",
       "      <th></th>\n",
       "      <th></th>\n",
       "      <th></th>\n",
       "      <th></th>\n",
       "      <th></th>\n",
       "      <th></th>\n",
       "      <th></th>\n",
       "      <th></th>\n",
       "      <th></th>\n",
       "      <th></th>\n",
       "    </tr>\n",
       "  </thead>\n",
       "  <tbody>\n",
       "    <tr>\n",
       "      <th>2018-08-07 00:00:00-04:00</th>\n",
       "      <td>105.97</td>\n",
       "      <td>105.97</td>\n",
       "      <td>105.8250</td>\n",
       "      <td>105.840</td>\n",
       "      <td>2368151.0</td>\n",
       "      <td>NaN</td>\n",
       "      <td>285.39</td>\n",
       "      <td>286.010</td>\n",
       "      <td>285.240</td>\n",
       "      <td>285.54</td>\n",
       "      <td>32455420</td>\n",
       "      <td>NaN</td>\n",
       "    </tr>\n",
       "    <tr>\n",
       "      <th>2018-08-08 00:00:00-04:00</th>\n",
       "      <td>105.83</td>\n",
       "      <td>105.91</td>\n",
       "      <td>105.8000</td>\n",
       "      <td>105.845</td>\n",
       "      <td>1613011.0</td>\n",
       "      <td>0.000047</td>\n",
       "      <td>285.39</td>\n",
       "      <td>285.910</td>\n",
       "      <td>284.940</td>\n",
       "      <td>285.42</td>\n",
       "      <td>29142601</td>\n",
       "      <td>-0.000420</td>\n",
       "    </tr>\n",
       "    <tr>\n",
       "      <th>2018-08-09 00:00:00-04:00</th>\n",
       "      <td>105.97</td>\n",
       "      <td>106.04</td>\n",
       "      <td>105.9329</td>\n",
       "      <td>106.030</td>\n",
       "      <td>2168479.0</td>\n",
       "      <td>0.001748</td>\n",
       "      <td>285.53</td>\n",
       "      <td>285.970</td>\n",
       "      <td>284.915</td>\n",
       "      <td>285.06</td>\n",
       "      <td>24338809</td>\n",
       "      <td>-0.001261</td>\n",
       "    </tr>\n",
       "    <tr>\n",
       "      <th>2018-08-10 00:00:00-04:00</th>\n",
       "      <td>106.11</td>\n",
       "      <td>106.36</td>\n",
       "      <td>106.1100</td>\n",
       "      <td>106.230</td>\n",
       "      <td>2555922.0</td>\n",
       "      <td>0.001886</td>\n",
       "      <td>283.45</td>\n",
       "      <td>284.055</td>\n",
       "      <td>282.360</td>\n",
       "      <td>283.12</td>\n",
       "      <td>56622478</td>\n",
       "      <td>-0.006806</td>\n",
       "    </tr>\n",
       "    <tr>\n",
       "      <th>2018-08-13 00:00:00-04:00</th>\n",
       "      <td>106.16</td>\n",
       "      <td>106.30</td>\n",
       "      <td>106.1501</td>\n",
       "      <td>106.285</td>\n",
       "      <td>2558386.0</td>\n",
       "      <td>0.000518</td>\n",
       "      <td>283.47</td>\n",
       "      <td>284.160</td>\n",
       "      <td>281.770</td>\n",
       "      <td>282.05</td>\n",
       "      <td>49247799</td>\n",
       "      <td>-0.003779</td>\n",
       "    </tr>\n",
       "  </tbody>\n",
       "</table>\n",
       "</div>"
      ],
      "text/plain": [
       "                              AGG                                        \\\n",
       "                             open    high       low    close     volume   \n",
       "time                                                                      \n",
       "2018-08-07 00:00:00-04:00  105.97  105.97  105.8250  105.840  2368151.0   \n",
       "2018-08-08 00:00:00-04:00  105.83  105.91  105.8000  105.845  1613011.0   \n",
       "2018-08-09 00:00:00-04:00  105.97  106.04  105.9329  106.030  2168479.0   \n",
       "2018-08-10 00:00:00-04:00  106.11  106.36  106.1100  106.230  2555922.0   \n",
       "2018-08-13 00:00:00-04:00  106.16  106.30  106.1501  106.285  2558386.0   \n",
       "\n",
       "                                           SPY                            \\\n",
       "                          daily_return    open     high      low   close   \n",
       "time                                                                       \n",
       "2018-08-07 00:00:00-04:00          NaN  285.39  286.010  285.240  285.54   \n",
       "2018-08-08 00:00:00-04:00     0.000047  285.39  285.910  284.940  285.42   \n",
       "2018-08-09 00:00:00-04:00     0.001748  285.53  285.970  284.915  285.06   \n",
       "2018-08-10 00:00:00-04:00     0.001886  283.45  284.055  282.360  283.12   \n",
       "2018-08-13 00:00:00-04:00     0.000518  283.47  284.160  281.770  282.05   \n",
       "\n",
       "                                                  \n",
       "                             volume daily_return  \n",
       "time                                              \n",
       "2018-08-07 00:00:00-04:00  32455420          NaN  \n",
       "2018-08-08 00:00:00-04:00  29142601    -0.000420  \n",
       "2018-08-09 00:00:00-04:00  24338809    -0.001261  \n",
       "2018-08-10 00:00:00-04:00  56622478    -0.006806  \n",
       "2018-08-13 00:00:00-04:00  49247799    -0.003779  "
      ]
     },
     "execution_count": 39,
     "metadata": {},
     "output_type": "execute_result"
    }
   ],
   "source": [
    "# Configure a Monte Carlo simulation to forecast 10 years cumulative returns\n",
    "# The weights should be split 20% to AGG and 80% to SPY.\n",
    "# Run 500 samples.\n",
    "Monte_Carlo_10years=MCSimulation(\n",
    "    portfolio_data=historical_df,\n",
    "    weights=[0.80,0.20],\n",
    "    num_simulation=500,\n",
    "    num_trading_days=252*10\n",
    ")\n",
    "# Review the simulation input data\n",
    "Monte_Carlo_10years.portfolio_data.head()"
   ]
  },
  {
   "cell_type": "code",
   "execution_count": 40,
   "metadata": {},
   "outputs": [
    {
     "name": "stdout",
     "output_type": "stream",
     "text": [
      "Running Monte Carlo simulation number 0.\n",
      "Running Monte Carlo simulation number 10.\n",
      "Running Monte Carlo simulation number 20.\n",
      "Running Monte Carlo simulation number 30.\n",
      "Running Monte Carlo simulation number 40.\n",
      "Running Monte Carlo simulation number 50.\n",
      "Running Monte Carlo simulation number 60.\n",
      "Running Monte Carlo simulation number 70.\n",
      "Running Monte Carlo simulation number 80.\n",
      "Running Monte Carlo simulation number 90.\n",
      "Running Monte Carlo simulation number 100.\n",
      "Running Monte Carlo simulation number 110.\n",
      "Running Monte Carlo simulation number 120.\n",
      "Running Monte Carlo simulation number 130.\n",
      "Running Monte Carlo simulation number 140.\n",
      "Running Monte Carlo simulation number 150.\n",
      "Running Monte Carlo simulation number 160.\n",
      "Running Monte Carlo simulation number 170.\n",
      "Running Monte Carlo simulation number 180.\n",
      "Running Monte Carlo simulation number 190.\n",
      "Running Monte Carlo simulation number 200.\n",
      "Running Monte Carlo simulation number 210.\n",
      "Running Monte Carlo simulation number 220.\n",
      "Running Monte Carlo simulation number 230.\n",
      "Running Monte Carlo simulation number 240.\n",
      "Running Monte Carlo simulation number 250.\n",
      "Running Monte Carlo simulation number 260.\n",
      "Running Monte Carlo simulation number 270.\n",
      "Running Monte Carlo simulation number 280.\n",
      "Running Monte Carlo simulation number 290.\n",
      "Running Monte Carlo simulation number 300.\n",
      "Running Monte Carlo simulation number 310.\n",
      "Running Monte Carlo simulation number 320.\n",
      "Running Monte Carlo simulation number 330.\n",
      "Running Monte Carlo simulation number 340.\n",
      "Running Monte Carlo simulation number 350.\n",
      "Running Monte Carlo simulation number 360.\n",
      "Running Monte Carlo simulation number 370.\n",
      "Running Monte Carlo simulation number 380.\n",
      "Running Monte Carlo simulation number 390.\n",
      "Running Monte Carlo simulation number 400.\n",
      "Running Monte Carlo simulation number 410.\n",
      "Running Monte Carlo simulation number 420.\n",
      "Running Monte Carlo simulation number 430.\n",
      "Running Monte Carlo simulation number 440.\n",
      "Running Monte Carlo simulation number 450.\n",
      "Running Monte Carlo simulation number 460.\n",
      "Running Monte Carlo simulation number 470.\n",
      "Running Monte Carlo simulation number 480.\n",
      "Running Monte Carlo simulation number 490.\n"
     ]
    },
    {
     "data": {
      "text/html": [
       "<div>\n",
       "<style scoped>\n",
       "    .dataframe tbody tr th:only-of-type {\n",
       "        vertical-align: middle;\n",
       "    }\n",
       "\n",
       "    .dataframe tbody tr th {\n",
       "        vertical-align: top;\n",
       "    }\n",
       "\n",
       "    .dataframe thead th {\n",
       "        text-align: right;\n",
       "    }\n",
       "</style>\n",
       "<table border=\"1\" class=\"dataframe\">\n",
       "  <thead>\n",
       "    <tr style=\"text-align: right;\">\n",
       "      <th></th>\n",
       "      <th>0</th>\n",
       "      <th>1</th>\n",
       "      <th>2</th>\n",
       "      <th>3</th>\n",
       "      <th>4</th>\n",
       "      <th>5</th>\n",
       "      <th>6</th>\n",
       "      <th>7</th>\n",
       "      <th>8</th>\n",
       "      <th>9</th>\n",
       "      <th>...</th>\n",
       "      <th>490</th>\n",
       "      <th>491</th>\n",
       "      <th>492</th>\n",
       "      <th>493</th>\n",
       "      <th>494</th>\n",
       "      <th>495</th>\n",
       "      <th>496</th>\n",
       "      <th>497</th>\n",
       "      <th>498</th>\n",
       "      <th>499</th>\n",
       "    </tr>\n",
       "  </thead>\n",
       "  <tbody>\n",
       "    <tr>\n",
       "      <th>0</th>\n",
       "      <td>1.000000</td>\n",
       "      <td>1.000000</td>\n",
       "      <td>1.000000</td>\n",
       "      <td>1.000000</td>\n",
       "      <td>1.000000</td>\n",
       "      <td>1.000000</td>\n",
       "      <td>1.000000</td>\n",
       "      <td>1.000000</td>\n",
       "      <td>1.000000</td>\n",
       "      <td>1.000000</td>\n",
       "      <td>...</td>\n",
       "      <td>1.000000</td>\n",
       "      <td>1.000000</td>\n",
       "      <td>1.000000</td>\n",
       "      <td>1.000000</td>\n",
       "      <td>1.000000</td>\n",
       "      <td>1.000000</td>\n",
       "      <td>1.000000</td>\n",
       "      <td>1.000000</td>\n",
       "      <td>1.000000</td>\n",
       "      <td>1.000000</td>\n",
       "    </tr>\n",
       "    <tr>\n",
       "      <th>1</th>\n",
       "      <td>1.002284</td>\n",
       "      <td>1.005399</td>\n",
       "      <td>0.993950</td>\n",
       "      <td>0.996898</td>\n",
       "      <td>1.004126</td>\n",
       "      <td>0.994831</td>\n",
       "      <td>1.001556</td>\n",
       "      <td>0.998492</td>\n",
       "      <td>0.997491</td>\n",
       "      <td>1.004592</td>\n",
       "      <td>...</td>\n",
       "      <td>1.002062</td>\n",
       "      <td>1.004174</td>\n",
       "      <td>0.999569</td>\n",
       "      <td>0.991922</td>\n",
       "      <td>1.003172</td>\n",
       "      <td>0.993757</td>\n",
       "      <td>0.999102</td>\n",
       "      <td>1.000141</td>\n",
       "      <td>0.997249</td>\n",
       "      <td>1.001267</td>\n",
       "    </tr>\n",
       "    <tr>\n",
       "      <th>2</th>\n",
       "      <td>1.001840</td>\n",
       "      <td>1.002801</td>\n",
       "      <td>0.993794</td>\n",
       "      <td>0.997678</td>\n",
       "      <td>1.011944</td>\n",
       "      <td>0.990353</td>\n",
       "      <td>1.002710</td>\n",
       "      <td>1.003652</td>\n",
       "      <td>1.002146</td>\n",
       "      <td>1.005833</td>\n",
       "      <td>...</td>\n",
       "      <td>1.005940</td>\n",
       "      <td>1.004501</td>\n",
       "      <td>0.997209</td>\n",
       "      <td>0.998143</td>\n",
       "      <td>1.006399</td>\n",
       "      <td>0.990413</td>\n",
       "      <td>0.991888</td>\n",
       "      <td>1.001190</td>\n",
       "      <td>1.002626</td>\n",
       "      <td>0.997970</td>\n",
       "    </tr>\n",
       "    <tr>\n",
       "      <th>3</th>\n",
       "      <td>1.002988</td>\n",
       "      <td>1.013465</td>\n",
       "      <td>0.996169</td>\n",
       "      <td>1.001915</td>\n",
       "      <td>1.011454</td>\n",
       "      <td>0.990843</td>\n",
       "      <td>1.004655</td>\n",
       "      <td>1.008350</td>\n",
       "      <td>1.001405</td>\n",
       "      <td>1.013411</td>\n",
       "      <td>...</td>\n",
       "      <td>1.001933</td>\n",
       "      <td>1.003072</td>\n",
       "      <td>1.006894</td>\n",
       "      <td>0.998241</td>\n",
       "      <td>1.002750</td>\n",
       "      <td>0.981212</td>\n",
       "      <td>0.996464</td>\n",
       "      <td>0.999831</td>\n",
       "      <td>1.000928</td>\n",
       "      <td>1.001055</td>\n",
       "    </tr>\n",
       "    <tr>\n",
       "      <th>4</th>\n",
       "      <td>0.994325</td>\n",
       "      <td>1.020639</td>\n",
       "      <td>0.999919</td>\n",
       "      <td>1.001884</td>\n",
       "      <td>1.010525</td>\n",
       "      <td>0.992804</td>\n",
       "      <td>1.007198</td>\n",
       "      <td>1.001449</td>\n",
       "      <td>1.000202</td>\n",
       "      <td>1.017929</td>\n",
       "      <td>...</td>\n",
       "      <td>1.001938</td>\n",
       "      <td>0.997675</td>\n",
       "      <td>1.009922</td>\n",
       "      <td>0.996990</td>\n",
       "      <td>1.006797</td>\n",
       "      <td>0.982072</td>\n",
       "      <td>0.999348</td>\n",
       "      <td>1.000348</td>\n",
       "      <td>1.011720</td>\n",
       "      <td>1.003119</td>\n",
       "    </tr>\n",
       "    <tr>\n",
       "      <th>...</th>\n",
       "      <td>...</td>\n",
       "      <td>...</td>\n",
       "      <td>...</td>\n",
       "      <td>...</td>\n",
       "      <td>...</td>\n",
       "      <td>...</td>\n",
       "      <td>...</td>\n",
       "      <td>...</td>\n",
       "      <td>...</td>\n",
       "      <td>...</td>\n",
       "      <td>...</td>\n",
       "      <td>...</td>\n",
       "      <td>...</td>\n",
       "      <td>...</td>\n",
       "      <td>...</td>\n",
       "      <td>...</td>\n",
       "      <td>...</td>\n",
       "      <td>...</td>\n",
       "      <td>...</td>\n",
       "      <td>...</td>\n",
       "      <td>...</td>\n",
       "    </tr>\n",
       "    <tr>\n",
       "      <th>2516</th>\n",
       "      <td>2.166212</td>\n",
       "      <td>1.502623</td>\n",
       "      <td>1.533462</td>\n",
       "      <td>1.235982</td>\n",
       "      <td>1.926839</td>\n",
       "      <td>1.209925</td>\n",
       "      <td>1.627932</td>\n",
       "      <td>1.724353</td>\n",
       "      <td>1.593846</td>\n",
       "      <td>1.633197</td>\n",
       "      <td>...</td>\n",
       "      <td>2.054255</td>\n",
       "      <td>2.276819</td>\n",
       "      <td>1.607679</td>\n",
       "      <td>1.877425</td>\n",
       "      <td>1.654009</td>\n",
       "      <td>1.753144</td>\n",
       "      <td>1.580233</td>\n",
       "      <td>1.527692</td>\n",
       "      <td>1.343191</td>\n",
       "      <td>1.406120</td>\n",
       "    </tr>\n",
       "    <tr>\n",
       "      <th>2517</th>\n",
       "      <td>2.172473</td>\n",
       "      <td>1.502335</td>\n",
       "      <td>1.540241</td>\n",
       "      <td>1.234521</td>\n",
       "      <td>1.927718</td>\n",
       "      <td>1.206345</td>\n",
       "      <td>1.624451</td>\n",
       "      <td>1.720466</td>\n",
       "      <td>1.593319</td>\n",
       "      <td>1.639324</td>\n",
       "      <td>...</td>\n",
       "      <td>2.053242</td>\n",
       "      <td>2.275516</td>\n",
       "      <td>1.610399</td>\n",
       "      <td>1.879165</td>\n",
       "      <td>1.655544</td>\n",
       "      <td>1.747205</td>\n",
       "      <td>1.580167</td>\n",
       "      <td>1.520820</td>\n",
       "      <td>1.338724</td>\n",
       "      <td>1.409877</td>\n",
       "    </tr>\n",
       "    <tr>\n",
       "      <th>2518</th>\n",
       "      <td>2.153970</td>\n",
       "      <td>1.504228</td>\n",
       "      <td>1.537035</td>\n",
       "      <td>1.235467</td>\n",
       "      <td>1.926818</td>\n",
       "      <td>1.200285</td>\n",
       "      <td>1.619177</td>\n",
       "      <td>1.706993</td>\n",
       "      <td>1.602356</td>\n",
       "      <td>1.642363</td>\n",
       "      <td>...</td>\n",
       "      <td>2.060677</td>\n",
       "      <td>2.255295</td>\n",
       "      <td>1.614119</td>\n",
       "      <td>1.886566</td>\n",
       "      <td>1.671245</td>\n",
       "      <td>1.742979</td>\n",
       "      <td>1.571347</td>\n",
       "      <td>1.511273</td>\n",
       "      <td>1.333003</td>\n",
       "      <td>1.397874</td>\n",
       "    </tr>\n",
       "    <tr>\n",
       "      <th>2519</th>\n",
       "      <td>2.138282</td>\n",
       "      <td>1.504408</td>\n",
       "      <td>1.541215</td>\n",
       "      <td>1.231380</td>\n",
       "      <td>1.928097</td>\n",
       "      <td>1.205593</td>\n",
       "      <td>1.605972</td>\n",
       "      <td>1.717096</td>\n",
       "      <td>1.599795</td>\n",
       "      <td>1.640163</td>\n",
       "      <td>...</td>\n",
       "      <td>2.046721</td>\n",
       "      <td>2.246625</td>\n",
       "      <td>1.614148</td>\n",
       "      <td>1.893551</td>\n",
       "      <td>1.671953</td>\n",
       "      <td>1.745067</td>\n",
       "      <td>1.590881</td>\n",
       "      <td>1.523692</td>\n",
       "      <td>1.331135</td>\n",
       "      <td>1.396844</td>\n",
       "    </tr>\n",
       "    <tr>\n",
       "      <th>2520</th>\n",
       "      <td>2.121944</td>\n",
       "      <td>1.503073</td>\n",
       "      <td>1.544556</td>\n",
       "      <td>1.224026</td>\n",
       "      <td>1.944832</td>\n",
       "      <td>1.210250</td>\n",
       "      <td>1.610093</td>\n",
       "      <td>1.710920</td>\n",
       "      <td>1.600101</td>\n",
       "      <td>1.631711</td>\n",
       "      <td>...</td>\n",
       "      <td>2.045428</td>\n",
       "      <td>2.263717</td>\n",
       "      <td>1.612436</td>\n",
       "      <td>1.908640</td>\n",
       "      <td>1.676167</td>\n",
       "      <td>1.754538</td>\n",
       "      <td>1.599444</td>\n",
       "      <td>1.527374</td>\n",
       "      <td>1.337178</td>\n",
       "      <td>1.396895</td>\n",
       "    </tr>\n",
       "  </tbody>\n",
       "</table>\n",
       "<p>2521 rows × 500 columns</p>\n",
       "</div>"
      ],
      "text/plain": [
       "           0         1         2         3         4         5         6    \\\n",
       "0     1.000000  1.000000  1.000000  1.000000  1.000000  1.000000  1.000000   \n",
       "1     1.002284  1.005399  0.993950  0.996898  1.004126  0.994831  1.001556   \n",
       "2     1.001840  1.002801  0.993794  0.997678  1.011944  0.990353  1.002710   \n",
       "3     1.002988  1.013465  0.996169  1.001915  1.011454  0.990843  1.004655   \n",
       "4     0.994325  1.020639  0.999919  1.001884  1.010525  0.992804  1.007198   \n",
       "...        ...       ...       ...       ...       ...       ...       ...   \n",
       "2516  2.166212  1.502623  1.533462  1.235982  1.926839  1.209925  1.627932   \n",
       "2517  2.172473  1.502335  1.540241  1.234521  1.927718  1.206345  1.624451   \n",
       "2518  2.153970  1.504228  1.537035  1.235467  1.926818  1.200285  1.619177   \n",
       "2519  2.138282  1.504408  1.541215  1.231380  1.928097  1.205593  1.605972   \n",
       "2520  2.121944  1.503073  1.544556  1.224026  1.944832  1.210250  1.610093   \n",
       "\n",
       "           7         8         9    ...       490       491       492  \\\n",
       "0     1.000000  1.000000  1.000000  ...  1.000000  1.000000  1.000000   \n",
       "1     0.998492  0.997491  1.004592  ...  1.002062  1.004174  0.999569   \n",
       "2     1.003652  1.002146  1.005833  ...  1.005940  1.004501  0.997209   \n",
       "3     1.008350  1.001405  1.013411  ...  1.001933  1.003072  1.006894   \n",
       "4     1.001449  1.000202  1.017929  ...  1.001938  0.997675  1.009922   \n",
       "...        ...       ...       ...  ...       ...       ...       ...   \n",
       "2516  1.724353  1.593846  1.633197  ...  2.054255  2.276819  1.607679   \n",
       "2517  1.720466  1.593319  1.639324  ...  2.053242  2.275516  1.610399   \n",
       "2518  1.706993  1.602356  1.642363  ...  2.060677  2.255295  1.614119   \n",
       "2519  1.717096  1.599795  1.640163  ...  2.046721  2.246625  1.614148   \n",
       "2520  1.710920  1.600101  1.631711  ...  2.045428  2.263717  1.612436   \n",
       "\n",
       "           493       494       495       496       497       498       499  \n",
       "0     1.000000  1.000000  1.000000  1.000000  1.000000  1.000000  1.000000  \n",
       "1     0.991922  1.003172  0.993757  0.999102  1.000141  0.997249  1.001267  \n",
       "2     0.998143  1.006399  0.990413  0.991888  1.001190  1.002626  0.997970  \n",
       "3     0.998241  1.002750  0.981212  0.996464  0.999831  1.000928  1.001055  \n",
       "4     0.996990  1.006797  0.982072  0.999348  1.000348  1.011720  1.003119  \n",
       "...        ...       ...       ...       ...       ...       ...       ...  \n",
       "2516  1.877425  1.654009  1.753144  1.580233  1.527692  1.343191  1.406120  \n",
       "2517  1.879165  1.655544  1.747205  1.580167  1.520820  1.338724  1.409877  \n",
       "2518  1.886566  1.671245  1.742979  1.571347  1.511273  1.333003  1.397874  \n",
       "2519  1.893551  1.671953  1.745067  1.590881  1.523692  1.331135  1.396844  \n",
       "2520  1.908640  1.676167  1.754538  1.599444  1.527374  1.337178  1.396895  \n",
       "\n",
       "[2521 rows x 500 columns]"
      ]
     },
     "execution_count": 40,
     "metadata": {},
     "output_type": "execute_result"
    }
   ],
   "source": [
    "# Run the Monte Carlo simulation to forecast 10 years cumulative returns\n",
    "Monte_Carlo_10years.calc_cumulative_return()"
   ]
  },
  {
   "cell_type": "code",
   "execution_count": 41,
   "metadata": {},
   "outputs": [
    {
     "data": {
      "text/plain": [
       "<AxesSubplot:title={'center':'500 Simulations of Cumulative Portfolio Return Trajectories Over the Next 2520 Trading Days.'}>"
      ]
     },
     "execution_count": 41,
     "metadata": {},
     "output_type": "execute_result"
    },
    {
     "data": {
      "image/png": "[encoded data removed]",
      "text/plain": [
       "<Figure size 432x288 with 1 Axes>"
      ]
     },
     "metadata": {
      "needs_background": "light"
     },
     "output_type": "display_data"
    }
   ],
   "source": [
    "# Visualize the 10-year Monte Carlo simulation by creating an\n",
    "# overlay line plot\n",
    "Monte_Carlo_10years.plot_simulation()"
   ]
  },
  {
   "cell_type": "code",
   "execution_count": 42,
   "metadata": {},
   "outputs": [
    {
     "data": {
      "text/plain": [
       "<AxesSubplot:title={'center':'Distribution of Final Cumuluative Returns Across All 500 Simulations'}, ylabel='Frequency'>"
      ]
     },
     "execution_count": 42,
     "metadata": {},
     "output_type": "execute_result"
    },
    {
     "data": {
      "image/png": "[encoded data removed]",
      "text/plain": [
       "<Figure size 432x288 with 1 Axes>"
      ]
     },
     "metadata": {
      "needs_background": "light"
     },
     "output_type": "display_data"
    }
   ],
   "source": [
    "# Visualize the probability distribution of the 10-year Monte Carlo simulation \n",
    "# by plotting a histogram\n",
    "Monte_Carlo_10years.plot_distribution()"
   ]
  },
  {
   "cell_type": "code",
   "execution_count": 43,
   "metadata": {},
   "outputs": [
    {
     "data": {
      "text/plain": [
       "count           500.000000\n",
       "mean              1.821932\n",
       "std               0.381153\n",
       "min               1.003281\n",
       "25%               1.551389\n",
       "50%               1.776775\n",
       "75%               2.055238\n",
       "max               3.440738\n",
       "95% CI Lower      1.190985\n",
       "95% CI Upper      2.601529\n",
       "Name: 2520, dtype: float64"
      ]
     },
     "execution_count": 43,
     "metadata": {},
     "output_type": "execute_result"
    }
   ],
   "source": [
    "# Generate summary statistics from the 10-year Monte Carlo simulation results\n",
    "# Save the results as a variable\n",
    "MC_10y_sum_stat=Monte_Carlo_10years.summarize_cumulative_return()\n",
    "\n",
    "# Review the 10-year Monte Carlo summary statistics\n",
    "MC_10y_sum_stat"
   ]
  },
  {
   "cell_type": "markdown",
   "metadata": {},
   "source": [
    "### Answer the following questions:"
   ]
  },
  {
   "cell_type": "markdown",
   "metadata": {},
   "source": [
    "#### Question: Using the current value of only the stock and bond portion of the member's portfolio and the summary statistics that you generated from the new Monte Carlo simulation, what are the lower and upper bounds for the expected value of the portfolio (with the new weights) with a 95% confidence interval?"
   ]
  },
  {
   "cell_type": "code",
   "execution_count": 44,
   "metadata": {},
   "outputs": [
    {
     "name": "stdout",
     "output_type": "stream",
     "text": [
      "The current value of stock and bond portion of portolio is $80,048.95\n"
     ]
    }
   ],
   "source": [
    "# Print the current balance of the stock and bond portion of the members portfolio\n",
    "print(f\"The current value of stock and bond portion of portolio is ${total_stocks_bonds:,.2f}\")"
   ]
  },
  {
   "cell_type": "code",
   "execution_count": 45,
   "metadata": {},
   "outputs": [
    {
     "name": "stdout",
     "output_type": "stream",
     "text": [
      "Within 95% confidence interval, the portfolio value (with 80/20 stock/bond weights) might flactuate between $ 95,337.1 and $ 208,249.7 in the  10 years.\n"
     ]
    }
   ],
   "source": [
    "# Use the lower and upper `95%` confidence intervals to calculate the range of the possible outcomes for the current stock/bond portfolio\n",
    "ci_lower_ten_cumulative_return = MC_10y_sum_stat[8]*total_stocks_bonds\n",
    "ci_upper_ten_cumulative_return = MC_10y_sum_stat[9]*total_stocks_bonds\n",
    "# Print the result of your calculations\n",
    "print(f\"Within 95% confidence interval, the portfolio value (with 80/20 stock/bond weights) might flactuate between ${ci_lower_ten_cumulative_return: ,.1f} and ${ci_upper_ten_cumulative_return: ,.1f} in the  10 years.\") \n"
   ]
  },
  {
   "cell_type": "markdown",
   "metadata": {},
   "source": [
    "#### Question: Will weighting the portfolio more heavily to stocks allow the credit union members to retire after only 10 years?"
   ]
  },
  {
   "cell_type": "raw",
   "metadata": {},
   "source": [
    "**Answer** Although the 80/20 weighted portfolio can seem more profitable, we can see that in 10 years the portfolio can increase only by 2.7488 times by 95% chance. By looking into 30-year stimulation summary statistics of 60/40 weighted stock/bond portfolio, we have 95% of confidence to end up with an upper value of 33.655982 times of the initial investment. So, even if we don't know how much return credit union members need to retire, within 95% confidence interval, the forecasted upper boundary in the long term perspective is much higher than for the 10-year perspective(33.655982 - 2.7488 = 30.907182 (times)). "
   ]
  },
  {
   "cell_type": "code",
   "execution_count": null,
   "metadata": {},
   "outputs": [],
   "source": []
  }
 ],
 "metadata": {
  "kernelspec": {
   "display_name": "Python (dev)",
   "language": "python",
   "name": "dev"
  },
  "language_info": {
   "codemirror_mode": {
    "name": "ipython",
    "version": 3
   },
   "file_extension": ".py",
   "mimetype": "text/x-python",
   "name": "python",
   "nbconvert_exporter": "python",
   "pygments_lexer": "ipython3",
   "version": "3.7.7"
  }
 },
 "nbformat": 4,
 "nbformat_minor": 4
}
